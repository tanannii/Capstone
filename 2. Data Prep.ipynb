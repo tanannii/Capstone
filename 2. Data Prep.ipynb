{
 "cells": [
  {
   "cell_type": "code",
   "execution_count": 1,
   "id": "437ba6ef",
   "metadata": {},
   "outputs": [],
   "source": [
    "import os\n",
    "import pandas as pd\n",
    "import numpy as np\n",
    "import random as rd\n",
    "import datetime as dt\n",
    "import re\n",
    "from datetime import timedelta\n",
    "import warnings\n",
    "warnings.filterwarnings('ignore')\n",
    "import time\n",
    "import csv\n",
    "import pickle\n",
    "import matplotlib.pyplot as plt\n",
    "import seaborn as sns\n",
    "\n",
    "import sklearn\n",
    "from sklearn import metrics\n",
    "from sklearn.metrics import make_scorer, r2_score, mean_squared_error, explained_variance_score, mean_absolute_error, mean_squared_error\n",
    "from sklearn.model_selection import train_test_split, cross_val_score, RandomizedSearchCV, StratifiedKFold\n",
    "from sklearn.metrics import accuracy_score, precision_score, recall_score, f1_score, roc_curve, auc, confusion_matrix\n",
    "from sklearn.compose import  ColumnTransformer, make_column_transformer\n",
    "from sklearn.pipeline import make_pipeline\n",
    "from sklearn.preprocessing import OneHotEncoder, StandardScaler, MinMaxScaler, LabelBinarizer, RobustScaler\n",
    "from sklearn.dummy import DummyClassifier\n",
    "from sklearn.impute import SimpleImputer\n",
    "from sklearn.tree import DecisionTreeClassifier\n",
    "from sklearn.ensemble import RandomForestClassifier, RandomForestRegressor\n",
    "from sklearn.naive_bayes import MultinomialNB, ComplementNB, CategoricalNB\n",
    "from sklearn.svm import SVC  \n",
    "from sklearn import linear_model\n",
    "from sklearn.linear_model import LogisticRegression, LinearRegression, Lasso, Ridge, ElasticNet\n",
    "from lightgbm import LGBMClassifier\n",
    "from imblearn.over_sampling import SMOTE, SMOTENC\n",
    "from itertools import cycle\n",
    "\n",
    "import joblib\n",
    "\n",
    "pd.set_option('display.max_columns', 1000)\n",
    "pd.set_option('display.max_rows', 1000)\n",
    "pd.set_option('display.width', 1000)"
   ]
  },
  {
   "cell_type": "markdown",
   "id": "c189499a",
   "metadata": {},
   "source": [
    "# Step 1: Load libraries and dataset"
   ]
  },
  {
   "cell_type": "markdown",
   "id": "325a7e0e",
   "metadata": {},
   "source": [
    "## Preparing data"
   ]
  },
  {
   "cell_type": "code",
   "execution_count": 2,
   "id": "a5ef6ca5",
   "metadata": {},
   "outputs": [],
   "source": [
    "#load in data\n",
    "df = pd.read_csv('./1. Data/Headcount/merged4.csv', encoding='utf-8')"
   ]
  },
  {
   "cell_type": "code",
   "execution_count": 5,
   "id": "d35024ab",
   "metadata": {},
   "outputs": [
    {
     "data": {
      "text/plain": [
       "(9064, 149)"
      ]
     },
     "execution_count": 5,
     "metadata": {},
     "output_type": "execute_result"
    }
   ],
   "source": [
    "df.shape"
   ]
  },
  {
   "cell_type": "code",
   "execution_count": 10,
   "id": "d6b4e8bc",
   "metadata": {},
   "outputs": [],
   "source": [
    "#change the string varaibles; male to M, female to F\n",
    "d = {'Male': 'M', 'Female' :'F'}\n",
    "cols = ['GENDER']\n",
    "df[cols] = df[cols].replace(d, regex=True)"
   ]
  },
  {
   "cell_type": "code",
   "execution_count": 11,
   "id": "ddfd48f0",
   "metadata": {},
   "outputs": [],
   "source": [
    "#create numeric column for outcome\n",
    "df['TERMINATED_NUM'] = df['TERMINATED'].replace(['ACTIVE','TERMINATED'], [0, 1])"
   ]
  },
  {
   "cell_type": "markdown",
   "id": "1157e596",
   "metadata": {},
   "source": [
    "## Subsetting data"
   ]
  },
  {
   "cell_type": "code",
   "execution_count": 13,
   "id": "e7effd6f",
   "metadata": {},
   "outputs": [
    {
     "data": {
      "text/plain": [
       "array(['Involuntary Termination', 'Voluntary Termination', nan],\n",
       "      dtype=object)"
      ]
     },
     "execution_count": 13,
     "metadata": {},
     "output_type": "execute_result"
    }
   ],
   "source": [
    "#Check termination types\n",
    "df['TERM_SUB_GROUP_TYPE_DESCRIPTION'].unique()"
   ]
  },
  {
   "cell_type": "code",
   "execution_count": 14,
   "id": "12a29ed8",
   "metadata": {},
   "outputs": [],
   "source": [
    "#select only those that are active or terminated voluntarily\n",
    "df2 = df.loc[(df['TERMINATED']=='ACTIVE') | (df['TERM_SUB_GROUP_TYPE_DESCRIPTION']=='Voluntary Termination')]"
   ]
  },
  {
   "cell_type": "code",
   "execution_count": 15,
   "id": "a68cac7a",
   "metadata": {},
   "outputs": [
    {
     "data": {
      "text/plain": [
       "(8565, 150)"
      ]
     },
     "execution_count": 15,
     "metadata": {},
     "output_type": "execute_result"
    }
   ],
   "source": [
    "#Check\n",
    "df2.shape"
   ]
  },
  {
   "cell_type": "markdown",
   "id": "b8134c07",
   "metadata": {},
   "source": [
    "# Step 2: Exploratory Data Analysis"
   ]
  },
  {
   "cell_type": "code",
   "execution_count": 19,
   "id": "3b96d65a",
   "metadata": {},
   "outputs": [
    {
     "data": {
      "text/plain": [
       "ACTIVE        1503\n",
       "TERMINATED     737\n",
       "Name: TERMINATED, dtype: int64"
      ]
     },
     "execution_count": 19,
     "metadata": {},
     "output_type": "execute_result"
    }
   ],
   "source": [
    "#check value counts\n",
    "df3['TERMINATED'].value_counts()"
   ]
  },
  {
   "cell_type": "code",
   "execution_count": 20,
   "id": "d55f89ea",
   "metadata": {},
   "outputs": [
    {
     "data": {
      "text/plain": [
       "0    1503\n",
       "1     737\n",
       "Name: TERMINATED_NUM, dtype: int64"
      ]
     },
     "execution_count": 20,
     "metadata": {},
     "output_type": "execute_result"
    }
   ],
   "source": [
    "#Check value counts\n",
    "df3['TERMINATED_NUM'].value_counts()"
   ]
  },
  {
   "cell_type": "markdown",
   "id": "2e37103d",
   "metadata": {},
   "source": [
    "# 3. Feature Engineering"
   ]
  },
  {
   "cell_type": "markdown",
   "id": "a7250658",
   "metadata": {},
   "source": [
    "## 3.1 Creating additional features\n"
   ]
  },
  {
   "cell_type": "code",
   "execution_count": 25,
   "id": "c667245b",
   "metadata": {},
   "outputs": [],
   "source": [
    "#create a new df \n",
    "df = df3.copy()"
   ]
  },
  {
   "cell_type": "code",
   "execution_count": 27,
   "id": "11e20839",
   "metadata": {},
   "outputs": [],
   "source": [
    "hc_unique = pd.read_csv('./1. Data/Headcount/hc.csv', encoding='utf-8')"
   ]
  },
  {
   "cell_type": "code",
   "execution_count": 29,
   "id": "7ca14d30",
   "metadata": {},
   "outputs": [],
   "source": [
    "#create subset of manageremail and age; to vlookup manager details with hc details\n",
    "df_mgr_info = hc_unique[['EMAIL_ADDRESS', 'COUNTRY', 'AGE_YEARS', 'AGE_BAND', 'GENDER', 'TENURE_CONTINUOUS_SERVICE_DATE_IN_YEARS', 'TENURE_LATEST_HIRE_DATE_IN_YEARS', 'JOB_TENURE_IN_YEARS', 'GENERATIONS', 'CAREER_LEVEL_TENURE_IN_YEARS', 'JOB_FUNCTION_TENURE_IN_YEARS', 'JOB_LEVEL_TENURE_IN_YEARS']]\n",
    "df_mgr_info = df_mgr_info.rename(columns={'COUNTRY':'MANAGER_COUNTRY', 'AGE_YEARS':'MANAGER_AGE', 'AGE_BAND':'MANAGER_AGE_BAND','GENDER':'MANAGER_GENDER','TENURE_CONTINUOUS_SERVICE_DATE_IN_YEARS':'MANAGER_TENURE_CONTINUOUS_SERVICE_DATE_IN_YEARS','TENURE_LATEST_HIRE_DATE_IN_YEARS':'MANAGER_TENURE_LATEST_HIRE_DATE_IN_YEARS'\n",
    "                                         ,'JOB_TENURE_IN_YEARS':'MANAGER_JOB_TENURE_IN_YEARS','GENERATIONS':'MANAGER_GENERATIONS','CAREER_LEVEL_TENURE_IN_YEARS':'MANAGER_CAREER_LEVEL_TENURE_IN_YEARS','JOB_FUNCTION_TENURE_IN_YEARS':'MANAGER_JOB_FUNCTION_TENURE_IN_YEARS','JOB_LEVEL_TENURE_IN_YEARS':'MANAGER_JOB_LEVEL_TENURE_IN_YEARS'}) "
   ]
  },
  {
   "cell_type": "code",
   "execution_count": 31,
   "id": "eb64fdc6",
   "metadata": {},
   "outputs": [],
   "source": [
    "#Vlookup with Manager's age and gender\n",
    "df2 = pd.merge(df2, df_mgr_info, how = 'left', left_on = 'MANAGER_EMAIL_ADDRESS', right_on = 'EMAIL_ADDRESS')"
   ]
  },
  {
   "cell_type": "code",
   "execution_count": 33,
   "id": "0c5f2847",
   "metadata": {},
   "outputs": [],
   "source": [
    "#drop the unnecessary columns; EMAIL_ADDRESS_y = MANAGER_EMAIL_ADDRESS\n",
    "df2 = df2.drop(columns=['EMAIL_ADDRESS_y'])"
   ]
  },
  {
   "cell_type": "code",
   "execution_count": 34,
   "id": "c3674c55",
   "metadata": {},
   "outputs": [],
   "source": [
    "#rename EMAIL_ADDRESS_x to EMAIL_ADDRESS\n",
    "df2.rename(columns={\"EMAIL_ADDRESS_x\":\"EMAIL_ADDRESS\"},inplace=True)"
   ]
  },
  {
   "cell_type": "code",
   "execution_count": 36,
   "id": "69be3ec3",
   "metadata": {},
   "outputs": [
    {
     "data": {
      "text/plain": [
       "(0, 160)"
      ]
     },
     "execution_count": 36,
     "metadata": {},
     "output_type": "execute_result"
    }
   ],
   "source": [
    "#check for those with null values for manager age\n",
    "df2.loc[df2['MANAGER_AGE'].isnull()].groupby('MANAGER_EMAIL_ADDRESS').agg(set).shape\n",
    "#there are no managers with missing age"
   ]
  },
  {
   "cell_type": "code",
   "execution_count": 37,
   "id": "ac1499e4",
   "metadata": {
    "scrolled": true
   },
   "outputs": [
    {
     "data": {
      "text/plain": [
       "(0, 160)"
      ]
     },
     "execution_count": 37,
     "metadata": {},
     "output_type": "execute_result"
    }
   ],
   "source": [
    "#check for those with null values for manager gender\n",
    "df2.loc[df2['MANAGER_GENDER'].isnull()].groupby('MANAGER_EMAIL_ADDRESS').agg(set).shape\n",
    "#there are no managers with missing gender"
   ]
  },
  {
   "cell_type": "markdown",
   "id": "540ff8e8",
   "metadata": {},
   "source": [
    "### 3.1.2 Features - Age difference between Manager and Employee"
   ]
  },
  {
   "cell_type": "code",
   "execution_count": 41,
   "id": "c2a3b95e",
   "metadata": {},
   "outputs": [],
   "source": [
    "#get the absolute value of the age difference between manager's age and employee's age\n",
    "df2['AGE_DIFF_BETW_MGR_EMP'] = abs(round(df2['MANAGER_AGE'] - df2['AGE_YEARS'],0))"
   ]
  },
  {
   "cell_type": "code",
   "execution_count": 44,
   "id": "c84075f1",
   "metadata": {},
   "outputs": [],
   "source": [
    "df2['LOCATION_MGR_EMPLOYEE'] = ''\n",
    "\n",
    "# loop through each row of the DataFrame and check if the country is the same as the manager's country\n",
    "for index, row in df2.iterrows():\n",
    "    if row['COUNTRY'] == row['MANAGER_COUNTRY']:\n",
    "        df2.at[index, 'LOCATION_MGR_EMPLOYEE'] = 'SAME_COUNTRY'\n",
    "    else:\n",
    "        df2.at[index, 'LOCATION_MGR_EMPLOYEE'] = 'DIFFERENT_COUNTRY'"
   ]
  },
  {
   "cell_type": "code",
   "execution_count": 46,
   "id": "73b81f3e",
   "metadata": {},
   "outputs": [],
   "source": [
    "df2['GENERATIONS_MGR_EMPLOYEE'] = ''\n",
    "\n",
    "# loop through each row of the DataFrame and check if the country is the same as the manager's country\n",
    "for index, row in df2.iterrows():\n",
    "    if row['GENERATIONS'] == row['MANAGER_GENERATIONS']:\n",
    "        df2.at[index, 'GENERATIONS_MGR_EMPLOYEE'] = 'SAME_GENERATION'\n",
    "    else:\n",
    "        df2.at[index, 'GENERATIONS_MGR_EMPLOYEE'] = 'DIFFERENT_GENERATION'"
   ]
  },
  {
   "cell_type": "markdown",
   "id": "9c6757b9",
   "metadata": {},
   "source": [
    "### 3.1.3 Features - Survey1"
   ]
  },
  {
   "cell_type": "code",
   "execution_count": 58,
   "id": "adf61e30",
   "metadata": {},
   "outputs": [],
   "source": [
    "bins = [-1, 25, 50, 75, float(\"inf\")]\n",
    "bands = ['Low', 'Avg', 'High', 'Very High']\n",
    "\n",
    "df2['PFY_survey1'] = pd.cut(df2['PFY_survey1_employee'], bins, labels=bands)\n"
   ]
  },
  {
   "cell_type": "markdown",
   "id": "b5a298b8",
   "metadata": {},
   "source": [
    "### 3.1.4 Features - Survey2"
   ]
  },
  {
   "cell_type": "code",
   "execution_count": 69,
   "id": "f2ef73ae",
   "metadata": {},
   "outputs": [],
   "source": [
    "bins = [-1, 25, 50, 75, float(\"inf\")]\n",
    "bands = ['Low', 'Avg', 'High', 'Very High']\n",
    "\n",
    "df2['PFY_survey2'] = pd.cut(df2['PFY_survey2_employee'], bins, labels=bands)"
   ]
  },
  {
   "cell_type": "markdown",
   "id": "25a86fb4",
   "metadata": {},
   "source": [
    "### 3.1.5 Features - Attainment Values"
   ]
  },
  {
   "cell_type": "code",
   "execution_count": 77,
   "id": "11c45eab",
   "metadata": {},
   "outputs": [],
   "source": [
    "bins = [-1, 25, 50, 75, float(\"inf\")]\n",
    "bands = ['Low', 'Avg', 'High', 'Very High']\n",
    "\n",
    "df2['attainment'] = pd.cut(df2['attainment_employee'], bins, labels=bands)"
   ]
  },
  {
   "cell_type": "markdown",
   "id": "493cb26c",
   "metadata": {},
   "source": [
    "### 3.1.6 Features - Time Bands"
   ]
  },
  {
   "cell_type": "code",
   "execution_count": 84,
   "id": "8105f22b",
   "metadata": {},
   "outputs": [],
   "source": [
    "#bin the tenure and job date values into categorical string\n",
    "\n",
    "bins = [-1, 0.999, 1.999, 2.999, 3.999, 4.999, 9.999, 19.999, float(\"inf\")]\n",
    "\n",
    "bands = ['0 to 1 yr', '1 to 2 yrs', '2 to 3 yrs','3 to 4 yrs', '4 to 5 yrs', '5 to 10 yrs', '10 to 20 yrs', 'above 20 yrs']\n",
    "\n",
    "df2['TENURE_CONTINUOUS_SERVICE_DATE_BAND_LIN'] = pd.cut(df2['TENURE_CONTINUOUS_SERVICE_DATE_IN_YEARS'], bins, labels=bands)\n",
    "\n",
    "df2['TENURE_LATEST_HIRE_DATE_BAND_LIN'] = pd.cut(df2['TENURE_LATEST_HIRE_DATE_IN_YEARS'], bins, labels=bands)\n",
    "\n",
    "df2['JOB_TENURE_BAND_LIN'] = pd.cut(df2['JOB_TENURE_IN_YEARS'], bins, labels=bands)\n",
    "\n",
    "df2['TIME_SINCE_LAST_SALARY_INCR_BAND_LIN'] = pd.cut(df2['TIME_SINCE_LAST_SALARY_INCR_IN_YEARS'], bins, labels=bands)\n",
    "\n",
    "df2['CAREER_LEVEL_TENURE_IN_YEARS_LIN'] = pd.cut(df2['CAREER_LEVEL_TENURE_IN_YEARS'], bins, labels=bands)\n",
    "\n",
    "df2['JOB_LEVEL_TENURE_IN_YEARS_LIN'] = pd.cut(df2['JOB_LEVEL_TENURE_IN_YEARS'], bins, labels=bands)\n",
    "\n",
    "df2['JOB_FUNCTION_TENURE_IN_YEARS_LIN'] = pd.cut(df2['JOB_FUNCTION_TENURE_IN_YEARS'], bins, labels=bands)\n",
    "\n",
    "df2['PREVIOUS_CAREER_LEVEL_TENURE_IN_YEARS_LIN'] = pd.cut(df2['PREVIOUS_CAREER_LEVEL_TENURE_IN_YEARS'], bins, labels=bands)"
   ]
  },
  {
   "cell_type": "code",
   "execution_count": 85,
   "id": "97bead03",
   "metadata": {},
   "outputs": [],
   "source": [
    "#Bands for Managers\n",
    "df2['MANAGER_TENURE_CONTINUOUS_SERVICE_DATE_IN_YEARS_LIN'] = pd.cut(df2['MANAGER_TENURE_CONTINUOUS_SERVICE_DATE_IN_YEARS'], bins, labels=bands)\n",
    "df2\n",
    "df2['MANAGER_TENURE_LATEST_HIRE_DATE_IN_YEARS_LIN'] = pd.cut(df2['MANAGER_TENURE_LATEST_HIRE_DATE_IN_YEARS'], bins, labels=bands)\n",
    "df2\n",
    "df2['MANAGER_JOB_TENURE_IN_YEARS_LIN'] = pd.cut(df2['MANAGER_JOB_TENURE_IN_YEARS'], bins, labels=bands)\n",
    "\n",
    "df2['TIME_SINCE_LAST_SALARY_INCR_BAND_LIN'] = pd.cut(df2['TIME_SINCE_LAST_SALARY_INCR_IN_YEARS'], bins, labels=bands)\n",
    "\n",
    "df2['MANAGER_CAREER_LEVEL_TENURE_IN_YEARS_LIN'] = pd.cut(df2['MANAGER_CAREER_LEVEL_TENURE_IN_YEARS'], bins, labels=bands)\n",
    "\n",
    "df2['MANAGER_JOB_LEVEL_TENURE_IN_YEARS_LIN'] = pd.cut(df2['MANAGER_JOB_LEVEL_TENURE_IN_YEARS'], bins, labels=bands)\n",
    "\n",
    "df2['MANAGER_JOB_FUNCTION_TENURE_IN_YEARS_LIN'] = pd.cut(df2['MANAGER_JOB_FUNCTION_TENURE_IN_YEARS'], bins, labels=bands)\n",
    "\n"
   ]
  },
  {
   "cell_type": "markdown",
   "id": "965584e0",
   "metadata": {},
   "source": [
    "### 3.1.8 Dealing with NaNs"
   ]
  },
  {
   "cell_type": "code",
   "execution_count": 116,
   "id": "fdbc2f59",
   "metadata": {},
   "outputs": [],
   "source": [
    "#replace na value with missing \n",
    "df2[['PRODUCT_LINE', 'PRODUCT_ASSOCIATION','MANAGER_JOB_LEVEL_CATEGORY_MGR', 'PILLAR', 'MANAGER_JOB_LEVEL_CATEGORY_SELF']] = df2[['PRODUCT_LINE', 'PRODUCT_ASSOCIATION','MANAGER_JOB_LEVEL_CATEGORY_MGR', 'PILLAR', 'MANAGER_JOB_LEVEL_CATEGORY_SELF']].fillna('Missing')"
   ]
  },
  {
   "cell_type": "code",
   "execution_count": 119,
   "id": "40d5f210",
   "metadata": {},
   "outputs": [],
   "source": [
    "#save the dataframe for visualisation purposes\n",
    "df2.to_csv('for_viz.csv', encoding='utf-8')"
   ]
  },
  {
   "cell_type": "code",
   "execution_count": null,
   "id": "e3d597f6",
   "metadata": {},
   "outputs": [],
   "source": []
  }
 ],
 "metadata": {
  "kernelspec": {
   "display_name": "Python 3",
   "language": "python",
   "name": "python3"
  },
  "language_info": {
   "codemirror_mode": {
    "name": "ipython",
    "version": 3
   },
   "file_extension": ".py",
   "mimetype": "text/x-python",
   "name": "python",
   "nbconvert_exporter": "python",
   "pygments_lexer": "ipython3",
   "version": "3.8.8"
  }
 },
 "nbformat": 4,
 "nbformat_minor": 5
}

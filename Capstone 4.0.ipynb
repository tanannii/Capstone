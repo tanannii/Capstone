{
 "cells": [
  {
   "cell_type": "markdown",
   "id": "bdaa842d",
   "metadata": {},
   "source": [
    "# Step 1: Load libraries and dataset"
   ]
  },
  {
   "cell_type": "code",
   "execution_count": null,
   "id": "bc1e37c0",
   "metadata": {},
   "outputs": [],
   "source": [
    "import os\n",
    "import pandas as pd\n",
    "import numpy as np\n",
    "import random as rd\n",
    "import datetime as dt\n",
    "import re\n",
    "from datetime import timedelta\n",
    "import warnings\n",
    "warnings.filterwarnings('ignore')\n",
    "import time\n",
    "import csv\n",
    "import pickle\n",
    "import matplotlib.pyplot as plt\n",
    "import seaborn as sns\n",
    "\n",
    "import sklearn\n",
    "from sklearn import metrics\n",
    "from sklearn.metrics import make_scorer, r2_score, mean_squared_error, explained_variance_score, mean_absolute_error, mean_squared_error, roc_curve, roc_auc_score, plot_roc_curve\n",
    "from sklearn.model_selection import train_test_split, cross_val_score, RandomizedSearchCV, StratifiedKFold\n",
    "from sklearn.metrics import accuracy_score, precision_score, recall_score, f1_score, roc_curve, auc, confusion_matrix\n",
    "from sklearn.compose import  ColumnTransformer, make_column_transformer\n",
    "from sklearn.pipeline import make_pipeline, Pipeline\n",
    "from sklearn.preprocessing import OneHotEncoder, StandardScaler, MinMaxScaler, LabelBinarizer, RobustScaler\n",
    "from sklearn.dummy import DummyClassifier\n",
    "from sklearn.impute import SimpleImputer\n",
    "from sklearn.tree import DecisionTreeClassifier\n",
    "from sklearn.ensemble import RandomForestClassifier, RandomForestRegressor, ExtraTreesClassifier\n",
    "from sklearn.naive_bayes import MultinomialNB, ComplementNB, CategoricalNB, BernoulliNB\n",
    "from sklearn.svm import SVC  \n",
    "from sklearn import linear_model\n",
    "from sklearn.linear_model import LogisticRegression, LinearRegression, Lasso, Ridge, ElasticNet\n",
    "from lightgbm import LGBMClassifier\n",
    "from imblearn.over_sampling import SMOTE, SMOTENC\n",
    "from itertools import cycle\n",
    "from sklearn.ensemble import RandomForestClassifier, GradientBoostingClassifier\n",
    "from sklearn.metrics import classification_report\n",
    "from sklearn.metrics import classification_report, precision_recall_fscore_support, accuracy_score\n",
    "from sklearn.ensemble import AdaBoostClassifier\n",
    "\n",
    "\n",
    "import joblib\n",
    "\n",
    "pd.set_option('display.max_columns', 1000)\n",
    "pd.set_option('display.max_rows', 1000)\n",
    "pd.set_option('display.width', 1000)"
   ]
  },
  {
   "cell_type": "code",
   "execution_count": null,
   "id": "539d7d52",
   "metadata": {},
   "outputs": [],
   "source": [
    "#load in data\n",
    "df = pd.read_csv('./data.csv', encoding='utf-8')"
   ]
  },
  {
   "cell_type": "code",
   "execution_count": 5,
   "id": "93455745",
   "metadata": {},
   "outputs": [],
   "source": [
    "#Clean up the column types\n",
    "cols1 = ['JOB_CODE','TENURE_CONTINUOUS_SERVICE_DATE_BAND_LIN',\n",
    " 'TENURE_LATEST_HIRE_DATE_BAND_LIN',\n",
    " 'JOB_TENURE_BAND_LIN',\n",
    " 'TIME_SINCE_LAST_SALARY_INCR_BAND_LIN', 'CAREER_LEVEL_TENURE_IN_YEARS_LIN', 'JOB_LEVEL_TENURE_IN_YEARS_LIN', 'JOB_FUNCTION_TENURE_IN_YEARS_LIN', 'PREVIOUS_CAREER_LEVEL_TENURE_IN_YEARS_LIN', 'MANAGER_TENURE_CONTINUOUS_SERVICE_DATE_IN_YEARS_LIN',\n",
    " 'MANAGER_TENURE_LATEST_HIRE_DATE_IN_YEARS_LIN',\n",
    " 'MANAGER_JOB_TENURE_IN_YEARS_LIN',\n",
    " 'MANAGER_CAREER_LEVEL_TENURE_IN_YEARS_LIN',\n",
    " 'MANAGER_JOB_LEVEL_TENURE_IN_YEARS_LIN',\n",
    " 'MANAGER_JOB_FUNCTION_TENURE_IN_YEARS_LIN', 'HCM_PERSON_NUMBER', 'HCM_COST_CENTER']\n",
    "\n",
    "df[cols1] = df[cols1].astype(str)"
   ]
  },
  {
   "cell_type": "code",
   "execution_count": 7,
   "id": "adbdbbfd",
   "metadata": {},
   "outputs": [
    {
     "data": {
      "text/plain": [
       "(2240, 192)"
      ]
     },
     "execution_count": 7,
     "metadata": {},
     "output_type": "execute_result"
    }
   ],
   "source": [
    "#Check shape\n",
    "df.shape"
   ]
  },
  {
   "cell_type": "markdown",
   "id": "c774f55f",
   "metadata": {},
   "source": [
    "## Selecting Features"
   ]
  },
  {
   "cell_type": "code",
   "execution_count": 9,
   "id": "57998467",
   "metadata": {},
   "outputs": [],
   "source": [
    "#Get number of unique values for each discrete variable in the dataset.\n",
    "for col in df.describe().columns:\n",
    "    if df[col].dtype == int:\n",
    "        print(f'{col}:', df[col].nunique())"
   ]
  },
  {
   "cell_type": "markdown",
   "id": "7803e7f5",
   "metadata": {},
   "source": [
    "#Plot histogram of all columns\n",
    "df[df.describe().columns].hist(figsize=(30,30));"
   ]
  },
  {
   "cell_type": "markdown",
   "id": "83262bf1",
   "metadata": {},
   "source": [
    "#Correlation matrix; only works for numeric data\n",
    "sns.set(rc = {'figure.figsize':(30,30)})\n",
    "sns.heatmap(df.corr(), annot=True, cmap = 'coolwarm', mask=np.triu(df.corr()),)"
   ]
  },
  {
   "cell_type": "code",
   "execution_count": 14,
   "id": "9260ea57",
   "metadata": {},
   "outputs": [],
   "source": [
    "#Drop numercial and categorical\n",
    "df2 = df.drop(numerical_cols_to_drop, axis = 1)\n",
    "df2 = df2.drop(categorical_cols_to_drop, axis = 1)"
   ]
  },
  {
   "cell_type": "code",
   "execution_count": 15,
   "id": "19b80472",
   "metadata": {},
   "outputs": [],
   "source": [
    "#Save to csv\n",
    "df2.to_csv('./1. Data/df2_dataviz.csv', index=False)"
   ]
  },
  {
   "cell_type": "markdown",
   "id": "36cb3462",
   "metadata": {},
   "source": [
    "#Correlation matrix; only works for numeric data\n",
    "sns.set(rc = {'figure.figsize':(15,15)})\n",
    "sns.heatmap(df2.corr(), annot=True, cmap = 'coolwarm', mask=np.triu(df2.corr()),)"
   ]
  },
  {
   "cell_type": "markdown",
   "id": "09a1aec5",
   "metadata": {},
   "source": [
    "def get_correlation_matrix(df2):\n",
    "    corr = df2.corr()\n",
    "    return corr\n",
    "corr_matrix = get_correlation_matrix(df2)\n",
    "corr_matrix"
   ]
  },
  {
   "cell_type": "code",
   "execution_count": 18,
   "id": "a2af1034",
   "metadata": {},
   "outputs": [],
   "source": [
    "#Save to csv\n",
    "corr_matrix.to_csv('./1. Data/corr_matrix.csv', index=False)"
   ]
  },
  {
   "cell_type": "code",
   "execution_count": 19,
   "id": "4042b782",
   "metadata": {},
   "outputs": [],
   "source": [
    "#define X and y\n",
    "X = df2.drop(['TERMINATED_NUM', 'TERMINATED'], axis = 1)\n",
    "y = df2['TERMINATED_NUM']"
   ]
  },
  {
   "cell_type": "code",
   "execution_count": 20,
   "id": "9b12287b",
   "metadata": {},
   "outputs": [
    {
     "data": {
      "text/plain": [
       "(2240, 97)"
      ]
     },
     "execution_count": 20,
     "metadata": {},
     "output_type": "execute_result"
    }
   ],
   "source": [
    "X.shape"
   ]
  },
  {
   "cell_type": "code",
   "execution_count": 21,
   "id": "15411214",
   "metadata": {},
   "outputs": [],
   "source": [
    "#Split data columns into numerical and categorical\n",
    "numerical = X.select_dtypes(exclude='object')\n",
    "categorical = X.select_dtypes(include='object')\n",
    "\n",
    "#Save data into list\n",
    "num_columns = list(numerical.columns.values)\n",
    "cat_columns = list(categorical.columns.values)"
   ]
  },
  {
   "cell_type": "markdown",
   "id": "0ac6defe",
   "metadata": {},
   "source": [
    "#save the new DataFrame to a CSV file\n",
    "numerical_cols = pd.DataFrame(numerical.columns.values)\n",
    "numerical_cols.rename(columns={0:\"Numerical Columns\"},inplace=True)\n",
    "numerical_cols"
   ]
  },
  {
   "cell_type": "markdown",
   "id": "b89f4e15",
   "metadata": {},
   "source": [
    "categorical_cols = pd.DataFrame(categorical.columns.values)\n",
    "categorical_cols.rename(columns={0:\"Categorical Columns\"},inplace=True)\n",
    "categorical_cols"
   ]
  },
  {
   "cell_type": "code",
   "execution_count": 24,
   "id": "1ed1e5af",
   "metadata": {},
   "outputs": [
    {
     "data": {
      "text/html": [
       "<div>\n",
       "<style scoped>\n",
       "    .dataframe tbody tr th:only-of-type {\n",
       "        vertical-align: middle;\n",
       "    }\n",
       "\n",
       "    .dataframe tbody tr th {\n",
       "        vertical-align: top;\n",
       "    }\n",
       "\n",
       "    .dataframe thead th {\n",
       "        text-align: right;\n",
       "    }\n",
       "</style>\n",
       "<table border=\"1\" class=\"dataframe\">\n",
       "  <thead>\n",
       "    <tr style=\"text-align: right;\">\n",
       "      <th></th>\n",
       "      <th>Numerical Columns</th>\n",
       "      <th>Categorical Columns</th>\n",
       "    </tr>\n",
       "  </thead>\n",
       "  <tbody>\n",
       "    <tr>\n",
       "      <th>0</th>\n",
       "      <td>SALARY_RANGE_PENETRATION</td>\n",
       "      <td>HCM_PERSON_NUMBER</td>\n",
       "    </tr>\n",
       "    <tr>\n",
       "      <th>1</th>\n",
       "      <td>PFY_NUM_ORG_CHANGE</td>\n",
       "      <td>GENDER</td>\n",
       "    </tr>\n",
       "    <tr>\n",
       "      <th>2</th>\n",
       "      <td>PFY_NUM_CAREER_LEVEL_CHANGE</td>\n",
       "      <td>COMPANY_CODE</td>\n",
       "    </tr>\n",
       "    <tr>\n",
       "      <th>3</th>\n",
       "      <td>PFY_NUM_SUP_CHANGE</td>\n",
       "      <td>HCM_COST_CENTER</td>\n",
       "    </tr>\n",
       "    <tr>\n",
       "      <th>4</th>\n",
       "      <td>PFY_NUM_JOB_CHANGE</td>\n",
       "      <td>SUBREGION</td>\n",
       "    </tr>\n",
       "    <tr>\n",
       "      <th>5</th>\n",
       "      <td>PFY_NUM_LOCATION_CHANGE</td>\n",
       "      <td>COUNTRY</td>\n",
       "    </tr>\n",
       "    <tr>\n",
       "      <th>6</th>\n",
       "      <td>PFY_NUM_SALARY_CHANGE</td>\n",
       "      <td>GLOBAL_CAREER_LEVEL</td>\n",
       "    </tr>\n",
       "    <tr>\n",
       "      <th>7</th>\n",
       "      <td>CFY_NUM_ORG_CHANGE</td>\n",
       "      <td>PERSON_TYPE</td>\n",
       "    </tr>\n",
       "    <tr>\n",
       "      <th>8</th>\n",
       "      <td>CFY_NUM_CAREER_LEVEL_CHANGE</td>\n",
       "      <td>EMPLOYMENT_STATUS_DESCRIPTION</td>\n",
       "    </tr>\n",
       "    <tr>\n",
       "      <th>9</th>\n",
       "      <td>CFY_NUM_SUP_CHANGE</td>\n",
       "      <td>ASSIGNMENT_CATEGORY</td>\n",
       "    </tr>\n",
       "    <tr>\n",
       "      <th>10</th>\n",
       "      <td>CFY_NUM_JOB_CHANGE</td>\n",
       "      <td>AGE_BAND</td>\n",
       "    </tr>\n",
       "    <tr>\n",
       "      <th>11</th>\n",
       "      <td>CFY_NUM_LOCATION_CHANGE</td>\n",
       "      <td>GENERATIONS</td>\n",
       "    </tr>\n",
       "    <tr>\n",
       "      <th>12</th>\n",
       "      <td>CFY_NUM_SALARY_CHANGE</td>\n",
       "      <td>MANAGER_FULL_NAME</td>\n",
       "    </tr>\n",
       "    <tr>\n",
       "      <th>13</th>\n",
       "      <td>AGE_DIFF_BETW_MGR_EMP</td>\n",
       "      <td>MANAGER_01_EMAIL</td>\n",
       "    </tr>\n",
       "    <tr>\n",
       "      <th>14</th>\n",
       "      <td>NaN</td>\n",
       "      <td>MANAGER_02_EMAIL</td>\n",
       "    </tr>\n",
       "    <tr>\n",
       "      <th>15</th>\n",
       "      <td>NaN</td>\n",
       "      <td>MANAGER_03_EMAIL</td>\n",
       "    </tr>\n",
       "    <tr>\n",
       "      <th>16</th>\n",
       "      <td>NaN</td>\n",
       "      <td>MANAGER_04_EMAIL</td>\n",
       "    </tr>\n",
       "    <tr>\n",
       "      <th>17</th>\n",
       "      <td>NaN</td>\n",
       "      <td>MANAGER_05_EMAIL</td>\n",
       "    </tr>\n",
       "    <tr>\n",
       "      <th>18</th>\n",
       "      <td>NaN</td>\n",
       "      <td>MANAGER_06_EMAIL</td>\n",
       "    </tr>\n",
       "    <tr>\n",
       "      <th>19</th>\n",
       "      <td>NaN</td>\n",
       "      <td>MANAGER_07_EMAIL</td>\n",
       "    </tr>\n",
       "    <tr>\n",
       "      <th>20</th>\n",
       "      <td>NaN</td>\n",
       "      <td>MANAGER_08_EMAIL</td>\n",
       "    </tr>\n",
       "    <tr>\n",
       "      <th>21</th>\n",
       "      <td>NaN</td>\n",
       "      <td>MANAGER_09_EMAIL</td>\n",
       "    </tr>\n",
       "    <tr>\n",
       "      <th>22</th>\n",
       "      <td>NaN</td>\n",
       "      <td>MANAGER_10_EMAIL</td>\n",
       "    </tr>\n",
       "    <tr>\n",
       "      <th>23</th>\n",
       "      <td>NaN</td>\n",
       "      <td>LOB_03_NAME</td>\n",
       "    </tr>\n",
       "    <tr>\n",
       "      <th>24</th>\n",
       "      <td>NaN</td>\n",
       "      <td>LOB_04_NAME</td>\n",
       "    </tr>\n",
       "    <tr>\n",
       "      <th>25</th>\n",
       "      <td>NaN</td>\n",
       "      <td>LOB_05_NAME</td>\n",
       "    </tr>\n",
       "    <tr>\n",
       "      <th>26</th>\n",
       "      <td>NaN</td>\n",
       "      <td>LOB_06_NAME</td>\n",
       "    </tr>\n",
       "    <tr>\n",
       "      <th>27</th>\n",
       "      <td>NaN</td>\n",
       "      <td>LOB_07_NAME</td>\n",
       "    </tr>\n",
       "    <tr>\n",
       "      <th>28</th>\n",
       "      <td>NaN</td>\n",
       "      <td>LOB_08_NAME</td>\n",
       "    </tr>\n",
       "    <tr>\n",
       "      <th>29</th>\n",
       "      <td>NaN</td>\n",
       "      <td>LOB_09_NAME</td>\n",
       "    </tr>\n",
       "    <tr>\n",
       "      <th>30</th>\n",
       "      <td>NaN</td>\n",
       "      <td>LOB_10_NAME</td>\n",
       "    </tr>\n",
       "    <tr>\n",
       "      <th>31</th>\n",
       "      <td>NaN</td>\n",
       "      <td>LOB_11_NAME</td>\n",
       "    </tr>\n",
       "    <tr>\n",
       "      <th>32</th>\n",
       "      <td>NaN</td>\n",
       "      <td>COMPA_RATIO_BAND</td>\n",
       "    </tr>\n",
       "    <tr>\n",
       "      <th>33</th>\n",
       "      <td>NaN</td>\n",
       "      <td>QUARTILE</td>\n",
       "    </tr>\n",
       "    <tr>\n",
       "      <th>34</th>\n",
       "      <td>NaN</td>\n",
       "      <td>BOX_TALENT</td>\n",
       "    </tr>\n",
       "    <tr>\n",
       "      <th>35</th>\n",
       "      <td>NaN</td>\n",
       "      <td>RATING_DESCRIPTION_LAST_AVAILABLE</td>\n",
       "    </tr>\n",
       "    <tr>\n",
       "      <th>36</th>\n",
       "      <td>NaN</td>\n",
       "      <td>RATING_DESCRIPTION_PREV_FY</td>\n",
       "    </tr>\n",
       "    <tr>\n",
       "      <th>37</th>\n",
       "      <td>NaN</td>\n",
       "      <td>RATING_DESCRIPTION_PREV_2_FY</td>\n",
       "    </tr>\n",
       "    <tr>\n",
       "      <th>38</th>\n",
       "      <td>NaN</td>\n",
       "      <td>JOB_CATEGORY_LEVEL_09</td>\n",
       "    </tr>\n",
       "    <tr>\n",
       "      <th>39</th>\n",
       "      <td>NaN</td>\n",
       "      <td>JOB_CATEGORY_LEVEL_10</td>\n",
       "    </tr>\n",
       "    <tr>\n",
       "      <th>40</th>\n",
       "      <td>NaN</td>\n",
       "      <td>JOB_CATEGORY_LEVEL_11</td>\n",
       "    </tr>\n",
       "    <tr>\n",
       "      <th>41</th>\n",
       "      <td>NaN</td>\n",
       "      <td>PILLAR</td>\n",
       "    </tr>\n",
       "    <tr>\n",
       "      <th>42</th>\n",
       "      <td>NaN</td>\n",
       "      <td>PRODUCT_SPECIALITY</td>\n",
       "    </tr>\n",
       "    <tr>\n",
       "      <th>43</th>\n",
       "      <td>NaN</td>\n",
       "      <td>PRODUCT_LINE</td>\n",
       "    </tr>\n",
       "    <tr>\n",
       "      <th>44</th>\n",
       "      <td>NaN</td>\n",
       "      <td>PRODUCT_CATEGORY</td>\n",
       "    </tr>\n",
       "    <tr>\n",
       "      <th>45</th>\n",
       "      <td>NaN</td>\n",
       "      <td>PRODUCT_ASSOCIATION</td>\n",
       "    </tr>\n",
       "    <tr>\n",
       "      <th>46</th>\n",
       "      <td>NaN</td>\n",
       "      <td>RCODE_REPORTING_TIER_06</td>\n",
       "    </tr>\n",
       "    <tr>\n",
       "      <th>47</th>\n",
       "      <td>NaN</td>\n",
       "      <td>MANAGER_JOB_LEVEL_CATEGORY_SELF</td>\n",
       "    </tr>\n",
       "    <tr>\n",
       "      <th>48</th>\n",
       "      <td>NaN</td>\n",
       "      <td>MANAGER_JOB_LEVEL_CATEGORY_MGR</td>\n",
       "    </tr>\n",
       "    <tr>\n",
       "      <th>49</th>\n",
       "      <td>NaN</td>\n",
       "      <td>MANAGER_COUNTRY</td>\n",
       "    </tr>\n",
       "    <tr>\n",
       "      <th>50</th>\n",
       "      <td>NaN</td>\n",
       "      <td>MANAGER_AGE_BAND</td>\n",
       "    </tr>\n",
       "    <tr>\n",
       "      <th>51</th>\n",
       "      <td>NaN</td>\n",
       "      <td>MANAGER_GENDER</td>\n",
       "    </tr>\n",
       "    <tr>\n",
       "      <th>52</th>\n",
       "      <td>NaN</td>\n",
       "      <td>MANAGER_GENERATIONS</td>\n",
       "    </tr>\n",
       "    <tr>\n",
       "      <th>53</th>\n",
       "      <td>NaN</td>\n",
       "      <td>PFY_M180_MGR_OVERALL_EMPLOYEE_BAND</td>\n",
       "    </tr>\n",
       "    <tr>\n",
       "      <th>54</th>\n",
       "      <td>NaN</td>\n",
       "      <td>PFY_M180_MGR_OVERALL_ORG_SCORE_BAND</td>\n",
       "    </tr>\n",
       "    <tr>\n",
       "      <th>55</th>\n",
       "      <td>NaN</td>\n",
       "      <td>PFY_M180_MGR_OVERALL_PERSONAL_SCORE_BAND</td>\n",
       "    </tr>\n",
       "    <tr>\n",
       "      <th>56</th>\n",
       "      <td>NaN</td>\n",
       "      <td>CFY_M180_MGR_OVERALL_EMPLOYEE_BAND</td>\n",
       "    </tr>\n",
       "    <tr>\n",
       "      <th>57</th>\n",
       "      <td>NaN</td>\n",
       "      <td>CFY_M180_MGR_OVERALL_ORG_SCORE_BAND</td>\n",
       "    </tr>\n",
       "    <tr>\n",
       "      <th>58</th>\n",
       "      <td>NaN</td>\n",
       "      <td>CFY_M180_MGR_OVERALL_PERSONAL_SCORE_BAND</td>\n",
       "    </tr>\n",
       "    <tr>\n",
       "      <th>59</th>\n",
       "      <td>NaN</td>\n",
       "      <td>PFY_YVS_MGRS_TEAM_SCORE_ENGAGEMENT_BAND</td>\n",
       "    </tr>\n",
       "    <tr>\n",
       "      <th>60</th>\n",
       "      <td>NaN</td>\n",
       "      <td>PFY_YVS_MANAGERS_DIRECTS_SCORE_ENGAGEMENT_BAND</td>\n",
       "    </tr>\n",
       "    <tr>\n",
       "      <th>61</th>\n",
       "      <td>NaN</td>\n",
       "      <td>PFY_YVS_MANAGERS_TEAM_SCORE_INTENTION_TO_STAY_...</td>\n",
       "    </tr>\n",
       "    <tr>\n",
       "      <th>62</th>\n",
       "      <td>NaN</td>\n",
       "      <td>PFY_YVS_MANAGERS_DIRECTS_SCORE_INTENTION_TO_ST...</td>\n",
       "    </tr>\n",
       "    <tr>\n",
       "      <th>63</th>\n",
       "      <td>NaN</td>\n",
       "      <td>CFY_YVS_MGRS_TEAM_SCORE_ENGAGEMENT_BAND</td>\n",
       "    </tr>\n",
       "    <tr>\n",
       "      <th>64</th>\n",
       "      <td>NaN</td>\n",
       "      <td>CFY_YVS_MANAGERS_DIRECTS_SCORE_ENGAGEMENT_BAND</td>\n",
       "    </tr>\n",
       "    <tr>\n",
       "      <th>65</th>\n",
       "      <td>NaN</td>\n",
       "      <td>CFY_YVS_MANAGERS_TEAM_SCORE_INTENTION_TO_STAY_...</td>\n",
       "    </tr>\n",
       "    <tr>\n",
       "      <th>66</th>\n",
       "      <td>NaN</td>\n",
       "      <td>CFY_YVS_MANAGERS_DIRECTS_SCORE_INTENTION_TO_ST...</td>\n",
       "    </tr>\n",
       "    <tr>\n",
       "      <th>67</th>\n",
       "      <td>NaN</td>\n",
       "      <td>PFY_ATTAINMENT_REP_LEVEL_BAND</td>\n",
       "    </tr>\n",
       "    <tr>\n",
       "      <th>68</th>\n",
       "      <td>NaN</td>\n",
       "      <td>CFY_ATTAINMENT_REP_LEVEL_BAND</td>\n",
       "    </tr>\n",
       "    <tr>\n",
       "      <th>69</th>\n",
       "      <td>NaN</td>\n",
       "      <td>TENURE_CONTINUOUS_SERVICE_DATE_BAND_LIN</td>\n",
       "    </tr>\n",
       "    <tr>\n",
       "      <th>70</th>\n",
       "      <td>NaN</td>\n",
       "      <td>TENURE_LATEST_HIRE_DATE_BAND_LIN</td>\n",
       "    </tr>\n",
       "    <tr>\n",
       "      <th>71</th>\n",
       "      <td>NaN</td>\n",
       "      <td>JOB_TENURE_BAND_LIN</td>\n",
       "    </tr>\n",
       "    <tr>\n",
       "      <th>72</th>\n",
       "      <td>NaN</td>\n",
       "      <td>TIME_SINCE_LAST_SALARY_INCR_BAND_LIN</td>\n",
       "    </tr>\n",
       "    <tr>\n",
       "      <th>73</th>\n",
       "      <td>NaN</td>\n",
       "      <td>CAREER_LEVEL_TENURE_IN_YEARS_LIN</td>\n",
       "    </tr>\n",
       "    <tr>\n",
       "      <th>74</th>\n",
       "      <td>NaN</td>\n",
       "      <td>JOB_LEVEL_TENURE_IN_YEARS_LIN</td>\n",
       "    </tr>\n",
       "    <tr>\n",
       "      <th>75</th>\n",
       "      <td>NaN</td>\n",
       "      <td>JOB_FUNCTION_TENURE_IN_YEARS_LIN</td>\n",
       "    </tr>\n",
       "    <tr>\n",
       "      <th>76</th>\n",
       "      <td>NaN</td>\n",
       "      <td>PREVIOUS_CAREER_LEVEL_TENURE_IN_YEARS_LIN</td>\n",
       "    </tr>\n",
       "    <tr>\n",
       "      <th>77</th>\n",
       "      <td>NaN</td>\n",
       "      <td>MANAGER_TENURE_CONTINUOUS_SERVICE_DATE_IN_YEAR...</td>\n",
       "    </tr>\n",
       "    <tr>\n",
       "      <th>78</th>\n",
       "      <td>NaN</td>\n",
       "      <td>MANAGER_TENURE_LATEST_HIRE_DATE_IN_YEARS_LIN</td>\n",
       "    </tr>\n",
       "    <tr>\n",
       "      <th>79</th>\n",
       "      <td>NaN</td>\n",
       "      <td>MANAGER_JOB_TENURE_IN_YEARS_LIN</td>\n",
       "    </tr>\n",
       "    <tr>\n",
       "      <th>80</th>\n",
       "      <td>NaN</td>\n",
       "      <td>MANAGER_CAREER_LEVEL_TENURE_IN_YEARS_LIN</td>\n",
       "    </tr>\n",
       "    <tr>\n",
       "      <th>81</th>\n",
       "      <td>NaN</td>\n",
       "      <td>MANAGER_JOB_LEVEL_TENURE_IN_YEARS_LIN</td>\n",
       "    </tr>\n",
       "    <tr>\n",
       "      <th>82</th>\n",
       "      <td>NaN</td>\n",
       "      <td>MANAGER_JOB_FUNCTION_TENURE_IN_YEARS_LIN</td>\n",
       "    </tr>\n",
       "  </tbody>\n",
       "</table>\n",
       "</div>"
      ],
      "text/plain": [
       "              Numerical Columns                                Categorical Columns\n",
       "0      SALARY_RANGE_PENETRATION                                  HCM_PERSON_NUMBER\n",
       "1            PFY_NUM_ORG_CHANGE                                             GENDER\n",
       "2   PFY_NUM_CAREER_LEVEL_CHANGE                                       COMPANY_CODE\n",
       "3            PFY_NUM_SUP_CHANGE                                    HCM_COST_CENTER\n",
       "4            PFY_NUM_JOB_CHANGE                                          SUBREGION\n",
       "5       PFY_NUM_LOCATION_CHANGE                                            COUNTRY\n",
       "6         PFY_NUM_SALARY_CHANGE                                GLOBAL_CAREER_LEVEL\n",
       "7            CFY_NUM_ORG_CHANGE                                        PERSON_TYPE\n",
       "8   CFY_NUM_CAREER_LEVEL_CHANGE                      EMPLOYMENT_STATUS_DESCRIPTION\n",
       "9            CFY_NUM_SUP_CHANGE                                ASSIGNMENT_CATEGORY\n",
       "10           CFY_NUM_JOB_CHANGE                                           AGE_BAND\n",
       "11      CFY_NUM_LOCATION_CHANGE                                        GENERATIONS\n",
       "12        CFY_NUM_SALARY_CHANGE                                  MANAGER_FULL_NAME\n",
       "13        AGE_DIFF_BETW_MGR_EMP                                   MANAGER_01_EMAIL\n",
       "14                          NaN                                   MANAGER_02_EMAIL\n",
       "15                          NaN                                   MANAGER_03_EMAIL\n",
       "16                          NaN                                   MANAGER_04_EMAIL\n",
       "17                          NaN                                   MANAGER_05_EMAIL\n",
       "18                          NaN                                   MANAGER_06_EMAIL\n",
       "19                          NaN                                   MANAGER_07_EMAIL\n",
       "20                          NaN                                   MANAGER_08_EMAIL\n",
       "21                          NaN                                   MANAGER_09_EMAIL\n",
       "22                          NaN                                   MANAGER_10_EMAIL\n",
       "23                          NaN                                        LOB_03_NAME\n",
       "24                          NaN                                        LOB_04_NAME\n",
       "25                          NaN                                        LOB_05_NAME\n",
       "26                          NaN                                        LOB_06_NAME\n",
       "27                          NaN                                        LOB_07_NAME\n",
       "28                          NaN                                        LOB_08_NAME\n",
       "29                          NaN                                        LOB_09_NAME\n",
       "30                          NaN                                        LOB_10_NAME\n",
       "31                          NaN                                        LOB_11_NAME\n",
       "32                          NaN                                   COMPA_RATIO_BAND\n",
       "33                          NaN                                           QUARTILE\n",
       "34                          NaN                                         BOX_TALENT\n",
       "35                          NaN                  RATING_DESCRIPTION_LAST_AVAILABLE\n",
       "36                          NaN                         RATING_DESCRIPTION_PREV_FY\n",
       "37                          NaN                       RATING_DESCRIPTION_PREV_2_FY\n",
       "38                          NaN                              JOB_CATEGORY_LEVEL_09\n",
       "39                          NaN                              JOB_CATEGORY_LEVEL_10\n",
       "40                          NaN                              JOB_CATEGORY_LEVEL_11\n",
       "41                          NaN                                             PILLAR\n",
       "42                          NaN                                 PRODUCT_SPECIALITY\n",
       "43                          NaN                                       PRODUCT_LINE\n",
       "44                          NaN                                   PRODUCT_CATEGORY\n",
       "45                          NaN                                PRODUCT_ASSOCIATION\n",
       "46                          NaN                            RCODE_REPORTING_TIER_06\n",
       "47                          NaN                    MANAGER_JOB_LEVEL_CATEGORY_SELF\n",
       "48                          NaN                     MANAGER_JOB_LEVEL_CATEGORY_MGR\n",
       "49                          NaN                                    MANAGER_COUNTRY\n",
       "50                          NaN                                   MANAGER_AGE_BAND\n",
       "51                          NaN                                     MANAGER_GENDER\n",
       "52                          NaN                                MANAGER_GENERATIONS\n",
       "53                          NaN                 PFY_M180_MGR_OVERALL_EMPLOYEE_BAND\n",
       "54                          NaN                PFY_M180_MGR_OVERALL_ORG_SCORE_BAND\n",
       "55                          NaN           PFY_M180_MGR_OVERALL_PERSONAL_SCORE_BAND\n",
       "56                          NaN                 CFY_M180_MGR_OVERALL_EMPLOYEE_BAND\n",
       "57                          NaN                CFY_M180_MGR_OVERALL_ORG_SCORE_BAND\n",
       "58                          NaN           CFY_M180_MGR_OVERALL_PERSONAL_SCORE_BAND\n",
       "59                          NaN            PFY_YVS_MGRS_TEAM_SCORE_ENGAGEMENT_BAND\n",
       "60                          NaN     PFY_YVS_MANAGERS_DIRECTS_SCORE_ENGAGEMENT_BAND\n",
       "61                          NaN  PFY_YVS_MANAGERS_TEAM_SCORE_INTENTION_TO_STAY_...\n",
       "62                          NaN  PFY_YVS_MANAGERS_DIRECTS_SCORE_INTENTION_TO_ST...\n",
       "63                          NaN            CFY_YVS_MGRS_TEAM_SCORE_ENGAGEMENT_BAND\n",
       "64                          NaN     CFY_YVS_MANAGERS_DIRECTS_SCORE_ENGAGEMENT_BAND\n",
       "65                          NaN  CFY_YVS_MANAGERS_TEAM_SCORE_INTENTION_TO_STAY_...\n",
       "66                          NaN  CFY_YVS_MANAGERS_DIRECTS_SCORE_INTENTION_TO_ST...\n",
       "67                          NaN                      PFY_ATTAINMENT_REP_LEVEL_BAND\n",
       "68                          NaN                      CFY_ATTAINMENT_REP_LEVEL_BAND\n",
       "69                          NaN            TENURE_CONTINUOUS_SERVICE_DATE_BAND_LIN\n",
       "70                          NaN                   TENURE_LATEST_HIRE_DATE_BAND_LIN\n",
       "71                          NaN                                JOB_TENURE_BAND_LIN\n",
       "72                          NaN               TIME_SINCE_LAST_SALARY_INCR_BAND_LIN\n",
       "73                          NaN                   CAREER_LEVEL_TENURE_IN_YEARS_LIN\n",
       "74                          NaN                      JOB_LEVEL_TENURE_IN_YEARS_LIN\n",
       "75                          NaN                   JOB_FUNCTION_TENURE_IN_YEARS_LIN\n",
       "76                          NaN          PREVIOUS_CAREER_LEVEL_TENURE_IN_YEARS_LIN\n",
       "77                          NaN  MANAGER_TENURE_CONTINUOUS_SERVICE_DATE_IN_YEAR...\n",
       "78                          NaN       MANAGER_TENURE_LATEST_HIRE_DATE_IN_YEARS_LIN\n",
       "79                          NaN                    MANAGER_JOB_TENURE_IN_YEARS_LIN\n",
       "80                          NaN           MANAGER_CAREER_LEVEL_TENURE_IN_YEARS_LIN\n",
       "81                          NaN              MANAGER_JOB_LEVEL_TENURE_IN_YEARS_LIN\n",
       "82                          NaN           MANAGER_JOB_FUNCTION_TENURE_IN_YEARS_LIN"
      ]
     },
     "execution_count": 24,
     "metadata": {},
     "output_type": "execute_result"
    }
   ],
   "source": [
    "data_cols = pd.concat([numerical_cols, categorical_cols], axis=1)\n",
    "data_cols"
   ]
  },
  {
   "cell_type": "code",
   "execution_count": 25,
   "id": "f1cae95d",
   "metadata": {},
   "outputs": [],
   "source": [
    "#Save to csv\n",
    "data_cols.to_csv('./1. Data/data_cols.csv', index=False)"
   ]
  },
  {
   "cell_type": "markdown",
   "id": "7e099f21",
   "metadata": {},
   "source": [
    "#Double Check for NA\n",
    "X.isna().sum().sort_values(ascending=False)"
   ]
  },
  {
   "cell_type": "code",
   "execution_count": 27,
   "id": "701ada46",
   "metadata": {},
   "outputs": [
    {
     "data": {
      "text/plain": [
       "0"
      ]
     },
     "execution_count": 27,
     "metadata": {},
     "output_type": "execute_result"
    }
   ],
   "source": [
    "#Double check for NA\n",
    "y.isnull().sum()"
   ]
  },
  {
   "cell_type": "code",
   "execution_count": 28,
   "id": "65800ac0",
   "metadata": {},
   "outputs": [
    {
     "name": "stdout",
     "output_type": "stream",
     "text": [
      "(2240, 97)\n",
      "(2240,)\n"
     ]
    }
   ],
   "source": [
    "#Check Shape\n",
    "print(X.shape)\n",
    "print(y.shape)"
   ]
  },
  {
   "cell_type": "markdown",
   "id": "0b202ddb",
   "metadata": {},
   "source": [
    "# Step 2: Models"
   ]
  },
  {
   "cell_type": "markdown",
   "id": "567d9a64",
   "metadata": {},
   "source": [
    "##  2.1 Define X and y"
   ]
  },
  {
   "cell_type": "code",
   "execution_count": 30,
   "id": "bc5c871e",
   "metadata": {},
   "outputs": [],
   "source": [
    "#we split the data into 80% training data,20% testing data\n",
    "X_train, X_test, y_train, y_test = train_test_split(X, y, test_size=0.2, random_state=32)"
   ]
  },
  {
   "cell_type": "markdown",
   "id": "fdc2695c",
   "metadata": {},
   "source": [
    "X_train.head(2)"
   ]
  },
  {
   "cell_type": "code",
   "execution_count": 32,
   "id": "1e87e5d7",
   "metadata": {},
   "outputs": [
    {
     "data": {
      "text/plain": [
       "((1792, 97), (448, 97), (2240, 97))"
      ]
     },
     "execution_count": 32,
     "metadata": {},
     "output_type": "execute_result"
    }
   ],
   "source": [
    "X_train.shape, X_test.shape, X.shape"
   ]
  },
  {
   "cell_type": "code",
   "execution_count": 33,
   "id": "b285dca8",
   "metadata": {},
   "outputs": [],
   "source": [
    "def get_pipeline(classifier_type, random_search=False, class_weights=None):\n",
    "    numeric_transformer = Pipeline(steps=[('scaler', MinMaxScaler())])\n",
    "    categorical_transformer = Pipeline(steps=[('onehot', OneHotEncoder(handle_unknown = 'ignore'))])\n",
    "    preprocessor = ColumnTransformer(\n",
    "        transformers=[\n",
    "            ('num', numeric_transformer, numeric_features),\n",
    "            ('cat', categorical_transformer, categorical_features)\n",
    "        ]\n",
    "    )\n",
    "    if classifier_type == 'BernoulliNB':\n",
    "        clf = BernoulliNB()\n",
    "    elif classifier_type == 'RandomForest':\n",
    "        clf = RandomForestClassifier(class_weight=class_weights)\n",
    "    elif classifier_type == 'LogisticRegression':\n",
    "        clf = LogisticRegression(class_weight=class_weights)\n",
    "    elif classifier_type == 'ExtraTrees':\n",
    "        clf = ExtraTreesClassifier(class_weight=class_weights)\n",
    "    elif classifier_type == 'LightGBM':\n",
    "        clf = LGBMClassifier(class_weight=class_weights)\n",
    "    elif classifier_type == 'SVM':\n",
    "        clf = SVC(class_weight=class_weights)\n",
    "    elif classifier_type == 'AdaBoost':\n",
    "        clf = AdaBoostClassifier(class_weight=class_weights)\n",
    "    else:\n",
    "        raise ValueError(f\"Invalid classifier type: {classifier_type}. Choose from 'BernoulliNB', 'RandomForest', 'LogisticRegression', 'ExtraTrees', 'LightGBM', 'SVM', 'AdaBoost'.\")\n",
    "    pipe = Pipeline([('preprocessor', preprocessor), ('clf', clf)])\n",
    "\n",
    "    return pipe"
   ]
  },
  {
   "cell_type": "code",
   "execution_count": 34,
   "id": "e4175fad",
   "metadata": {},
   "outputs": [],
   "source": [
    "def run_pipeline(classifier_type, X_train, y_train, X_test, y_test, class_weights=None):\n",
    "    start = time.time()\n",
    "    pipe = get_pipeline(classifier_type, class_weights=class_weights)\n",
    "    model = pipe.fit(X_train, y_train)\n",
    "\n",
    "    y_pred = model.predict(X_test)\n",
    "    y_train_pred = model.predict(X_train)\n",
    "\n",
    "    y_pred_proba = None\n",
    "    roc_auc = None\n",
    "    confusion_m = None\n",
    "    if hasattr(model, 'predict_proba'):\n",
    "        y_pred_proba = model.predict_proba(X_test)\n",
    "        roc_auc = roc_auc_score(y_test, y_pred_proba[:, 1])\n",
    "        confusion_m = confusion_matrix(y_test, y_pred)\n",
    "    elif hasattr(model, 'decision_function'):\n",
    "        y_pred_decision = model.decision_function(X_test)\n",
    "        roc_auc = roc_auc_score(y_test, y_pred_decision)\n",
    "        confusion_m = confusion_matrix(y_test, y_pred)\n",
    "\n",
    "    cr = classification_report(y_test, y_pred, output_dict=True)\n",
    "    precision, recall, f1_score, support = precision_recall_fscore_support(y_test, y_pred, average='weighted')\n",
    "    accuracy = accuracy_score(y_test, y_pred)\n",
    "    train_accuracy = accuracy_score(y_train, y_train_pred)\n",
    "\n",
    "    cv_scores = cross_val_score(model, X_train, y_train, cv=5)\n",
    "    mean_cv_score = np.mean(cv_scores)\n",
    "\n",
    "    result = {'Classifier': classifier_type,\n",
    "            'Precision': round(precision, 3),\n",
    "            'Recall': round(recall, 3),\n",
    "            'F1-Score': round(f1_score, 3),\n",
    "            'Accuracy (Train)': round(train_accuracy, 3),\n",
    "            'Accuracy (Test)': round(accuracy, 3),\n",
    "            'Accuracy (Difference)': round(train_accuracy, 3) - round(accuracy, 3),\n",
    "            'ROC AUC': round(roc_auc, 3),\n",
    "            'CV Score': round(mean_cv_score, 3)}\n",
    "    \n",
    "    if confusion_m is not None:\n",
    "        result['Confusion Matrix'] = confusion_m\n",
    "\n",
    "    end = time.time()\n",
    "    time_taken = end - start\n",
    "    result['Time (s)'] = round(time_taken, 2)\n",
    "    return result\n"
   ]
  },
  {
   "cell_type": "code",
   "execution_count": 35,
   "id": "a219aaca",
   "metadata": {},
   "outputs": [
    {
     "data": {
      "text/html": [
       "<div>\n",
       "<style scoped>\n",
       "    .dataframe tbody tr th:only-of-type {\n",
       "        vertical-align: middle;\n",
       "    }\n",
       "\n",
       "    .dataframe tbody tr th {\n",
       "        vertical-align: top;\n",
       "    }\n",
       "\n",
       "    .dataframe thead th {\n",
       "        text-align: right;\n",
       "    }\n",
       "</style>\n",
       "<table border=\"1\" class=\"dataframe\">\n",
       "  <thead>\n",
       "    <tr style=\"text-align: right;\">\n",
       "      <th></th>\n",
       "      <th>Classifier</th>\n",
       "      <th>Precision</th>\n",
       "      <th>Recall</th>\n",
       "      <th>F1-Score</th>\n",
       "      <th>Accuracy (Train)</th>\n",
       "      <th>Accuracy (Test)</th>\n",
       "      <th>Accuracy (Difference)</th>\n",
       "      <th>ROC AUC</th>\n",
       "      <th>CV Score</th>\n",
       "      <th>Confusion Matrix</th>\n",
       "      <th>Time (s)</th>\n",
       "    </tr>\n",
       "  </thead>\n",
       "  <tbody>\n",
       "    <tr>\n",
       "      <th>0</th>\n",
       "      <td>BernoulliNB</td>\n",
       "      <td>0.778</td>\n",
       "      <td>0.766</td>\n",
       "      <td>0.770</td>\n",
       "      <td>0.734</td>\n",
       "      <td>0.766</td>\n",
       "      <td>-0.032</td>\n",
       "      <td>0.801</td>\n",
       "      <td>0.715</td>\n",
       "      <td>[[240, 64], [41, 103]]</td>\n",
       "      <td>0.50</td>\n",
       "    </tr>\n",
       "    <tr>\n",
       "      <th>1</th>\n",
       "      <td>RandomForest</td>\n",
       "      <td>0.841</td>\n",
       "      <td>0.837</td>\n",
       "      <td>0.827</td>\n",
       "      <td>1.000</td>\n",
       "      <td>0.837</td>\n",
       "      <td>0.163</td>\n",
       "      <td>0.863</td>\n",
       "      <td>0.824</td>\n",
       "      <td>[[291, 13], [60, 84]]</td>\n",
       "      <td>4.32</td>\n",
       "    </tr>\n",
       "    <tr>\n",
       "      <th>2</th>\n",
       "      <td>LogisticRegression</td>\n",
       "      <td>0.820</td>\n",
       "      <td>0.824</td>\n",
       "      <td>0.818</td>\n",
       "      <td>0.881</td>\n",
       "      <td>0.824</td>\n",
       "      <td>0.057</td>\n",
       "      <td>0.834</td>\n",
       "      <td>0.811</td>\n",
       "      <td>[[279, 25], [54, 90]]</td>\n",
       "      <td>0.60</td>\n",
       "    </tr>\n",
       "    <tr>\n",
       "      <th>3</th>\n",
       "      <td>ExtraTrees</td>\n",
       "      <td>0.838</td>\n",
       "      <td>0.835</td>\n",
       "      <td>0.825</td>\n",
       "      <td>1.000</td>\n",
       "      <td>0.835</td>\n",
       "      <td>0.165</td>\n",
       "      <td>0.866</td>\n",
       "      <td>0.826</td>\n",
       "      <td>[[290, 14], [60, 84]]</td>\n",
       "      <td>5.25</td>\n",
       "    </tr>\n",
       "    <tr>\n",
       "      <th>4</th>\n",
       "      <td>LightGBM</td>\n",
       "      <td>0.845</td>\n",
       "      <td>0.846</td>\n",
       "      <td>0.840</td>\n",
       "      <td>1.000</td>\n",
       "      <td>0.846</td>\n",
       "      <td>0.154</td>\n",
       "      <td>0.900</td>\n",
       "      <td>0.853</td>\n",
       "      <td>[[286, 18], [51, 93]]</td>\n",
       "      <td>1.58</td>\n",
       "    </tr>\n",
       "    <tr>\n",
       "      <th>5</th>\n",
       "      <td>SVM</td>\n",
       "      <td>0.845</td>\n",
       "      <td>0.828</td>\n",
       "      <td>0.811</td>\n",
       "      <td>0.901</td>\n",
       "      <td>0.828</td>\n",
       "      <td>0.073</td>\n",
       "      <td>0.848</td>\n",
       "      <td>0.818</td>\n",
       "      <td>[[298, 6], [71, 73]]</td>\n",
       "      <td>5.15</td>\n",
       "    </tr>\n",
       "  </tbody>\n",
       "</table>\n",
       "</div>"
      ],
      "text/plain": [
       "           Classifier  Precision  Recall  F1-Score  Accuracy (Train)  Accuracy (Test)  Accuracy (Difference)  ROC AUC  CV Score        Confusion Matrix  Time (s)\n",
       "0         BernoulliNB      0.778   0.766     0.770             0.734            0.766                 -0.032    0.801     0.715  [[240, 64], [41, 103]]      0.50\n",
       "1        RandomForest      0.841   0.837     0.827             1.000            0.837                  0.163    0.863     0.824   [[291, 13], [60, 84]]      4.32\n",
       "2  LogisticRegression      0.820   0.824     0.818             0.881            0.824                  0.057    0.834     0.811   [[279, 25], [54, 90]]      0.60\n",
       "3          ExtraTrees      0.838   0.835     0.825             1.000            0.835                  0.165    0.866     0.826   [[290, 14], [60, 84]]      5.25\n",
       "4            LightGBM      0.845   0.846     0.840             1.000            0.846                  0.154    0.900     0.853   [[286, 18], [51, 93]]      1.58\n",
       "5                 SVM      0.845   0.828     0.811             0.901            0.828                  0.073    0.848     0.818    [[298, 6], [71, 73]]      5.15"
      ]
     },
     "execution_count": 35,
     "metadata": {},
     "output_type": "execute_result"
    }
   ],
   "source": [
    "results = []\n",
    "\n",
    "classifiers = ['BernoulliNB', 'RandomForest', 'LogisticRegression', 'ExtraTrees', 'LightGBM', 'SVM']\n",
    "\n",
    "for classifier in classifiers:\n",
    "    result = run_pipeline(classifier, X_train, y_train, X_test, y_test)\n",
    "    results.append(result)\n",
    "\n",
    "df = pd.DataFrame(results)\n",
    "df\n"
   ]
  },
  {
   "cell_type": "code",
   "execution_count": 36,
   "id": "31519c4e",
   "metadata": {},
   "outputs": [
    {
     "data": {
      "text/html": [
       "<div>\n",
       "<style scoped>\n",
       "    .dataframe tbody tr th:only-of-type {\n",
       "        vertical-align: middle;\n",
       "    }\n",
       "\n",
       "    .dataframe tbody tr th {\n",
       "        vertical-align: top;\n",
       "    }\n",
       "\n",
       "    .dataframe thead th {\n",
       "        text-align: right;\n",
       "    }\n",
       "</style>\n",
       "<table border=\"1\" class=\"dataframe\">\n",
       "  <thead>\n",
       "    <tr style=\"text-align: right;\">\n",
       "      <th></th>\n",
       "      <th>Classifier</th>\n",
       "      <th>Precision</th>\n",
       "      <th>Recall</th>\n",
       "      <th>F1-Score</th>\n",
       "      <th>Accuracy (Train)</th>\n",
       "      <th>Accuracy (Test)</th>\n",
       "      <th>Accuracy (Difference)</th>\n",
       "      <th>ROC AUC</th>\n",
       "      <th>CV Score</th>\n",
       "      <th>Confusion Matrix</th>\n",
       "      <th>Time (s)</th>\n",
       "    </tr>\n",
       "  </thead>\n",
       "  <tbody>\n",
       "    <tr>\n",
       "      <th>0</th>\n",
       "      <td>BernoulliNB</td>\n",
       "      <td>0.778</td>\n",
       "      <td>0.766</td>\n",
       "      <td>0.770</td>\n",
       "      <td>0.734</td>\n",
       "      <td>0.766</td>\n",
       "      <td>-0.032</td>\n",
       "      <td>0.801</td>\n",
       "      <td>0.715</td>\n",
       "      <td>[[240, 64], [41, 103]]</td>\n",
       "      <td>0.39</td>\n",
       "    </tr>\n",
       "    <tr>\n",
       "      <th>1</th>\n",
       "      <td>RandomForest</td>\n",
       "      <td>0.849</td>\n",
       "      <td>0.842</td>\n",
       "      <td>0.831</td>\n",
       "      <td>1.000</td>\n",
       "      <td>0.842</td>\n",
       "      <td>0.158</td>\n",
       "      <td>0.875</td>\n",
       "      <td>0.828</td>\n",
       "      <td>[[294, 10], [61, 83]]</td>\n",
       "      <td>4.55</td>\n",
       "    </tr>\n",
       "    <tr>\n",
       "      <th>2</th>\n",
       "      <td>LogisticRegression</td>\n",
       "      <td>0.803</td>\n",
       "      <td>0.801</td>\n",
       "      <td>0.802</td>\n",
       "      <td>0.858</td>\n",
       "      <td>0.801</td>\n",
       "      <td>0.057</td>\n",
       "      <td>0.833</td>\n",
       "      <td>0.778</td>\n",
       "      <td>[[257, 47], [42, 102]]</td>\n",
       "      <td>0.68</td>\n",
       "    </tr>\n",
       "    <tr>\n",
       "      <th>3</th>\n",
       "      <td>ExtraTrees</td>\n",
       "      <td>0.839</td>\n",
       "      <td>0.833</td>\n",
       "      <td>0.820</td>\n",
       "      <td>1.000</td>\n",
       "      <td>0.833</td>\n",
       "      <td>0.167</td>\n",
       "      <td>0.866</td>\n",
       "      <td>0.821</td>\n",
       "      <td>[[293, 11], [64, 80]]</td>\n",
       "      <td>9.83</td>\n",
       "    </tr>\n",
       "    <tr>\n",
       "      <th>4</th>\n",
       "      <td>LightGBM</td>\n",
       "      <td>0.853</td>\n",
       "      <td>0.855</td>\n",
       "      <td>0.852</td>\n",
       "      <td>0.999</td>\n",
       "      <td>0.855</td>\n",
       "      <td>0.144</td>\n",
       "      <td>0.902</td>\n",
       "      <td>0.854</td>\n",
       "      <td>[[282, 22], [43, 101]]</td>\n",
       "      <td>2.06</td>\n",
       "    </tr>\n",
       "    <tr>\n",
       "      <th>5</th>\n",
       "      <td>SVM</td>\n",
       "      <td>0.818</td>\n",
       "      <td>0.821</td>\n",
       "      <td>0.819</td>\n",
       "      <td>0.918</td>\n",
       "      <td>0.821</td>\n",
       "      <td>0.097</td>\n",
       "      <td>0.844</td>\n",
       "      <td>0.807</td>\n",
       "      <td>[[270, 34], [46, 98]]</td>\n",
       "      <td>7.86</td>\n",
       "    </tr>\n",
       "  </tbody>\n",
       "</table>\n",
       "</div>"
      ],
      "text/plain": [
       "           Classifier  Precision  Recall  F1-Score  Accuracy (Train)  Accuracy (Test)  Accuracy (Difference)  ROC AUC  CV Score        Confusion Matrix  Time (s)\n",
       "0         BernoulliNB      0.778   0.766     0.770             0.734            0.766                 -0.032    0.801     0.715  [[240, 64], [41, 103]]      0.39\n",
       "1        RandomForest      0.849   0.842     0.831             1.000            0.842                  0.158    0.875     0.828   [[294, 10], [61, 83]]      4.55\n",
       "2  LogisticRegression      0.803   0.801     0.802             0.858            0.801                  0.057    0.833     0.778  [[257, 47], [42, 102]]      0.68\n",
       "3          ExtraTrees      0.839   0.833     0.820             1.000            0.833                  0.167    0.866     0.821   [[293, 11], [64, 80]]      9.83\n",
       "4            LightGBM      0.853   0.855     0.852             0.999            0.855                  0.144    0.902     0.854  [[282, 22], [43, 101]]      2.06\n",
       "5                 SVM      0.818   0.821     0.819             0.918            0.821                  0.097    0.844     0.807   [[270, 34], [46, 98]]      7.86"
      ]
     },
     "execution_count": 36,
     "metadata": {},
     "output_type": "execute_result"
    }
   ],
   "source": [
    "results = []\n",
    "classifiers = ['BernoulliNB', 'RandomForest', 'LogisticRegression', 'ExtraTrees', 'LightGBM', 'SVM']\n",
    "class_weights = {0: 1, 1: 10} # custom class weights\n",
    "\n",
    "#Weights for LightGBM for balanced\n",
    "#To balance the class weights, you need to determine the ratio of the classes in your target variable. \n",
    "#For example, if you have a binary classification problem and 90% of the examples belong to class 0 and 10% belong to class 1, then the class weights would be scale_pos_weight=10 or class_weight={0: 1, 1: 10}. \n",
    "#You can also use other metrics, such as F1-score, to determine the optimal class weights.\n",
    "total_samples = X_train.shape[0]\n",
    "class_0_samples = y_train[y_train == 0].shape[0]\n",
    "class_1_samples = y_train[y_train == 1].shape[0]\n",
    "\n",
    "class_weight = {0: total_samples/class_0_samples, 1: total_samples/class_1_samples}\n",
    "class_weight\n",
    "\n",
    "for classifier in classifiers:\n",
    "    if classifier == 'RandomForest' or classifier == 'LogisticRegression':\n",
    "        result = run_pipeline(classifier, X_train, y_train, X_test, y_test, class_weights='balanced')\n",
    "    elif classifier == 'ExtraTrees':\n",
    "        result = run_pipeline(classifier, X_train, y_train, X_test, y_test, class_weights='balanced')\n",
    "    elif classifier == 'LightGBM':\n",
    "        result = run_pipeline(classifier, X_train, y_train, X_test, y_test, class_weights=class_weight)\n",
    "    elif classifier == 'SVM':\n",
    "        result = run_pipeline(classifier, X_train, y_train, X_test, y_test, class_weights='balanced')\n",
    "    else:\n",
    "        result = run_pipeline(classifier, X_train, y_train, X_test, y_test)\n",
    "    results.append(result)\n",
    "\n",
    "df_classweights = pd.DataFrame(results)\n",
    "df_classweights\n"
   ]
  },
  {
   "cell_type": "code",
   "execution_count": 37,
   "id": "2c1ac398",
   "metadata": {},
   "outputs": [
    {
     "data": {
      "text/html": [
       "<div>\n",
       "<style scoped>\n",
       "    .dataframe tbody tr th:only-of-type {\n",
       "        vertical-align: middle;\n",
       "    }\n",
       "\n",
       "    .dataframe tbody tr th {\n",
       "        vertical-align: top;\n",
       "    }\n",
       "\n",
       "    .dataframe thead th {\n",
       "        text-align: right;\n",
       "    }\n",
       "</style>\n",
       "<table border=\"1\" class=\"dataframe\">\n",
       "  <thead>\n",
       "    <tr style=\"text-align: right;\">\n",
       "      <th></th>\n",
       "      <th>Classifier</th>\n",
       "      <th>Precision</th>\n",
       "      <th>Recall</th>\n",
       "      <th>F1-Score</th>\n",
       "      <th>Accuracy (Train)</th>\n",
       "      <th>Accuracy (Test)</th>\n",
       "      <th>Accuracy (Difference)</th>\n",
       "      <th>ROC AUC</th>\n",
       "      <th>CV Score</th>\n",
       "      <th>Confusion Matrix</th>\n",
       "      <th>Time (s)</th>\n",
       "    </tr>\n",
       "  </thead>\n",
       "  <tbody>\n",
       "    <tr>\n",
       "      <th>0</th>\n",
       "      <td>BernoulliNB</td>\n",
       "      <td>0.778</td>\n",
       "      <td>0.766</td>\n",
       "      <td>0.770</td>\n",
       "      <td>0.734</td>\n",
       "      <td>0.766</td>\n",
       "      <td>-0.032</td>\n",
       "      <td>0.801</td>\n",
       "      <td>0.715</td>\n",
       "      <td>[[240, 64], [41, 103]]</td>\n",
       "      <td>0.50</td>\n",
       "    </tr>\n",
       "    <tr>\n",
       "      <th>1</th>\n",
       "      <td>RandomForest</td>\n",
       "      <td>0.841</td>\n",
       "      <td>0.837</td>\n",
       "      <td>0.827</td>\n",
       "      <td>1.000</td>\n",
       "      <td>0.837</td>\n",
       "      <td>0.163</td>\n",
       "      <td>0.863</td>\n",
       "      <td>0.824</td>\n",
       "      <td>[[291, 13], [60, 84]]</td>\n",
       "      <td>4.32</td>\n",
       "    </tr>\n",
       "    <tr>\n",
       "      <th>2</th>\n",
       "      <td>LogisticRegression</td>\n",
       "      <td>0.820</td>\n",
       "      <td>0.824</td>\n",
       "      <td>0.818</td>\n",
       "      <td>0.881</td>\n",
       "      <td>0.824</td>\n",
       "      <td>0.057</td>\n",
       "      <td>0.834</td>\n",
       "      <td>0.811</td>\n",
       "      <td>[[279, 25], [54, 90]]</td>\n",
       "      <td>0.60</td>\n",
       "    </tr>\n",
       "    <tr>\n",
       "      <th>3</th>\n",
       "      <td>ExtraTrees</td>\n",
       "      <td>0.838</td>\n",
       "      <td>0.835</td>\n",
       "      <td>0.825</td>\n",
       "      <td>1.000</td>\n",
       "      <td>0.835</td>\n",
       "      <td>0.165</td>\n",
       "      <td>0.866</td>\n",
       "      <td>0.826</td>\n",
       "      <td>[[290, 14], [60, 84]]</td>\n",
       "      <td>5.25</td>\n",
       "    </tr>\n",
       "    <tr>\n",
       "      <th>4</th>\n",
       "      <td>LightGBM</td>\n",
       "      <td>0.845</td>\n",
       "      <td>0.846</td>\n",
       "      <td>0.840</td>\n",
       "      <td>1.000</td>\n",
       "      <td>0.846</td>\n",
       "      <td>0.154</td>\n",
       "      <td>0.900</td>\n",
       "      <td>0.853</td>\n",
       "      <td>[[286, 18], [51, 93]]</td>\n",
       "      <td>1.58</td>\n",
       "    </tr>\n",
       "    <tr>\n",
       "      <th>5</th>\n",
       "      <td>SVM</td>\n",
       "      <td>0.845</td>\n",
       "      <td>0.828</td>\n",
       "      <td>0.811</td>\n",
       "      <td>0.901</td>\n",
       "      <td>0.828</td>\n",
       "      <td>0.073</td>\n",
       "      <td>0.848</td>\n",
       "      <td>0.818</td>\n",
       "      <td>[[298, 6], [71, 73]]</td>\n",
       "      <td>5.15</td>\n",
       "    </tr>\n",
       "  </tbody>\n",
       "</table>\n",
       "</div>"
      ],
      "text/plain": [
       "           Classifier  Precision  Recall  F1-Score  Accuracy (Train)  Accuracy (Test)  Accuracy (Difference)  ROC AUC  CV Score        Confusion Matrix  Time (s)\n",
       "0         BernoulliNB      0.778   0.766     0.770             0.734            0.766                 -0.032    0.801     0.715  [[240, 64], [41, 103]]      0.50\n",
       "1        RandomForest      0.841   0.837     0.827             1.000            0.837                  0.163    0.863     0.824   [[291, 13], [60, 84]]      4.32\n",
       "2  LogisticRegression      0.820   0.824     0.818             0.881            0.824                  0.057    0.834     0.811   [[279, 25], [54, 90]]      0.60\n",
       "3          ExtraTrees      0.838   0.835     0.825             1.000            0.835                  0.165    0.866     0.826   [[290, 14], [60, 84]]      5.25\n",
       "4            LightGBM      0.845   0.846     0.840             1.000            0.846                  0.154    0.900     0.853   [[286, 18], [51, 93]]      1.58\n",
       "5                 SVM      0.845   0.828     0.811             0.901            0.828                  0.073    0.848     0.818    [[298, 6], [71, 73]]      5.15"
      ]
     },
     "execution_count": 37,
     "metadata": {},
     "output_type": "execute_result"
    }
   ],
   "source": [
    "df"
   ]
  },
  {
   "cell_type": "code",
   "execution_count": 38,
   "id": "91d18ccc",
   "metadata": {},
   "outputs": [
    {
     "data": {
      "text/html": [
       "<div>\n",
       "<style scoped>\n",
       "    .dataframe tbody tr th:only-of-type {\n",
       "        vertical-align: middle;\n",
       "    }\n",
       "\n",
       "    .dataframe tbody tr th {\n",
       "        vertical-align: top;\n",
       "    }\n",
       "\n",
       "    .dataframe thead th {\n",
       "        text-align: right;\n",
       "    }\n",
       "</style>\n",
       "<table border=\"1\" class=\"dataframe\">\n",
       "  <thead>\n",
       "    <tr style=\"text-align: right;\">\n",
       "      <th></th>\n",
       "      <th>Classifier</th>\n",
       "      <th>Precision</th>\n",
       "      <th>Recall</th>\n",
       "      <th>F1-Score</th>\n",
       "      <th>Accuracy (Train)</th>\n",
       "      <th>Accuracy (Test)</th>\n",
       "      <th>Accuracy (Difference)</th>\n",
       "      <th>ROC AUC</th>\n",
       "      <th>CV Score</th>\n",
       "      <th>Confusion Matrix</th>\n",
       "      <th>Time (s)</th>\n",
       "    </tr>\n",
       "  </thead>\n",
       "  <tbody>\n",
       "    <tr>\n",
       "      <th>0</th>\n",
       "      <td>BernoulliNB</td>\n",
       "      <td>0.778</td>\n",
       "      <td>0.766</td>\n",
       "      <td>0.770</td>\n",
       "      <td>0.734</td>\n",
       "      <td>0.766</td>\n",
       "      <td>-0.032</td>\n",
       "      <td>0.801</td>\n",
       "      <td>0.715</td>\n",
       "      <td>[[240, 64], [41, 103]]</td>\n",
       "      <td>0.39</td>\n",
       "    </tr>\n",
       "    <tr>\n",
       "      <th>1</th>\n",
       "      <td>RandomForest</td>\n",
       "      <td>0.849</td>\n",
       "      <td>0.842</td>\n",
       "      <td>0.831</td>\n",
       "      <td>1.000</td>\n",
       "      <td>0.842</td>\n",
       "      <td>0.158</td>\n",
       "      <td>0.875</td>\n",
       "      <td>0.828</td>\n",
       "      <td>[[294, 10], [61, 83]]</td>\n",
       "      <td>4.55</td>\n",
       "    </tr>\n",
       "    <tr>\n",
       "      <th>2</th>\n",
       "      <td>LogisticRegression</td>\n",
       "      <td>0.803</td>\n",
       "      <td>0.801</td>\n",
       "      <td>0.802</td>\n",
       "      <td>0.858</td>\n",
       "      <td>0.801</td>\n",
       "      <td>0.057</td>\n",
       "      <td>0.833</td>\n",
       "      <td>0.778</td>\n",
       "      <td>[[257, 47], [42, 102]]</td>\n",
       "      <td>0.68</td>\n",
       "    </tr>\n",
       "    <tr>\n",
       "      <th>3</th>\n",
       "      <td>ExtraTrees</td>\n",
       "      <td>0.839</td>\n",
       "      <td>0.833</td>\n",
       "      <td>0.820</td>\n",
       "      <td>1.000</td>\n",
       "      <td>0.833</td>\n",
       "      <td>0.167</td>\n",
       "      <td>0.866</td>\n",
       "      <td>0.821</td>\n",
       "      <td>[[293, 11], [64, 80]]</td>\n",
       "      <td>9.83</td>\n",
       "    </tr>\n",
       "    <tr>\n",
       "      <th>4</th>\n",
       "      <td>LightGBM</td>\n",
       "      <td>0.853</td>\n",
       "      <td>0.855</td>\n",
       "      <td>0.852</td>\n",
       "      <td>0.999</td>\n",
       "      <td>0.855</td>\n",
       "      <td>0.144</td>\n",
       "      <td>0.902</td>\n",
       "      <td>0.854</td>\n",
       "      <td>[[282, 22], [43, 101]]</td>\n",
       "      <td>2.06</td>\n",
       "    </tr>\n",
       "    <tr>\n",
       "      <th>5</th>\n",
       "      <td>SVM</td>\n",
       "      <td>0.818</td>\n",
       "      <td>0.821</td>\n",
       "      <td>0.819</td>\n",
       "      <td>0.918</td>\n",
       "      <td>0.821</td>\n",
       "      <td>0.097</td>\n",
       "      <td>0.844</td>\n",
       "      <td>0.807</td>\n",
       "      <td>[[270, 34], [46, 98]]</td>\n",
       "      <td>7.86</td>\n",
       "    </tr>\n",
       "  </tbody>\n",
       "</table>\n",
       "</div>"
      ],
      "text/plain": [
       "           Classifier  Precision  Recall  F1-Score  Accuracy (Train)  Accuracy (Test)  Accuracy (Difference)  ROC AUC  CV Score        Confusion Matrix  Time (s)\n",
       "0         BernoulliNB      0.778   0.766     0.770             0.734            0.766                 -0.032    0.801     0.715  [[240, 64], [41, 103]]      0.39\n",
       "1        RandomForest      0.849   0.842     0.831             1.000            0.842                  0.158    0.875     0.828   [[294, 10], [61, 83]]      4.55\n",
       "2  LogisticRegression      0.803   0.801     0.802             0.858            0.801                  0.057    0.833     0.778  [[257, 47], [42, 102]]      0.68\n",
       "3          ExtraTrees      0.839   0.833     0.820             1.000            0.833                  0.167    0.866     0.821   [[293, 11], [64, 80]]      9.83\n",
       "4            LightGBM      0.853   0.855     0.852             0.999            0.855                  0.144    0.902     0.854  [[282, 22], [43, 101]]      2.06\n",
       "5                 SVM      0.818   0.821     0.819             0.918            0.821                  0.097    0.844     0.807   [[270, 34], [46, 98]]      7.86"
      ]
     },
     "execution_count": 38,
     "metadata": {},
     "output_type": "execute_result"
    }
   ],
   "source": [
    "df_classweights"
   ]
  },
  {
   "cell_type": "markdown",
   "id": "59d39f80",
   "metadata": {},
   "source": [
    "# Choose Logistic Regression"
   ]
  },
  {
   "cell_type": "code",
   "execution_count": 39,
   "id": "c1e6822e",
   "metadata": {},
   "outputs": [],
   "source": [
    "#define the numeric transformer\n",
    "numeric_transformer = Pipeline(steps=[('scaler', MinMaxScaler())])\n",
    "\n",
    "#define the categorical transformer\n",
    "categorical_transformer = Pipeline(steps=[('onehot', OneHotEncoder(handle_unknown = 'ignore'))])\n",
    "\n",
    "#define the preprocessor step using columntransformer for both numeric and categorical features\n",
    "preprocessor = ColumnTransformer(\n",
    "    transformers=[\n",
    "        ('num', numeric_transformer, numeric_features),\n",
    "        ('cat', categorical_transformer, categorical_features)])"
   ]
  },
  {
   "cell_type": "markdown",
   "id": "038b3a28",
   "metadata": {},
   "source": [
    "#define dummy classifier\n",
    "clf = LogisticRegression()\n",
    "\n",
    "#define pipeline - chain the preprocessor step and classifier\n",
    "pipe = Pipeline([('preprocessor',preprocessor), ('clf',clf)])\n",
    "\n",
    "print(pipe.steps)"
   ]
  },
  {
   "cell_type": "code",
   "execution_count": 41,
   "id": "9cb8c50e",
   "metadata": {},
   "outputs": [],
   "source": [
    "#randomised search cv with hyper parameters\n",
    "skf = StratifiedKFold(n_splits=5, random_state=45, shuffle=True)\n",
    "#input the parameters for search space\n",
    "param_grid = {\n",
    "    'clf__C':[0.1, 0.5, 1.0, 5.0, 10.0],\n",
    "    'clf__penalty':['l1','l2', 'elasticnet'],\n",
    "    'clf__solver': ['lbfgs','liblinear', 'sag', 'saga'],\n",
    "}\n",
    "\n",
    "#create the random forest classifier object\n",
    "#use scoring = 'f1_macro' as there are imbalanced classes\n",
    "rscv_lr = RandomizedSearchCV(estimator = pipe, param_distributions=param_grid, scoring='f1_macro', cv=skf, verbose=1, random_state=43)"
   ]
  },
  {
   "cell_type": "code",
   "execution_count": 42,
   "id": "195985e9",
   "metadata": {},
   "outputs": [
    {
     "name": "stdout",
     "output_type": "stream",
     "text": [
      "Fitting 5 folds for each of 10 candidates, totalling 50 fits\n",
      "Wall time: 6.01 s\n"
     ]
    }
   ],
   "source": [
    "%%time\n",
    "#fit the naive model with X_train and y_train data\n",
    "lr_model = rscv_lr.fit(X_train, y_train)\n",
    "\n",
    "#use the naive_model to predict the X_test values\n",
    "y_pred_lr = lr_model.predict(X_test)\n"
   ]
  },
  {
   "cell_type": "code",
   "execution_count": 43,
   "id": "7407d976",
   "metadata": {},
   "outputs": [
    {
     "name": "stdout",
     "output_type": "stream",
     "text": [
      "Fitting 5 folds for each of 10 candidates, totalling 50 fits\n",
      "Fitting 5 folds for each of 10 candidates, totalling 50 fits\n",
      "Fitting 5 folds for each of 10 candidates, totalling 50 fits\n",
      "Fitting 5 folds for each of 10 candidates, totalling 50 fits\n",
      "Fitting 5 folds for each of 10 candidates, totalling 50 fits\n",
      "0.788948734691762\n"
     ]
    }
   ],
   "source": [
    "lr_cross_val = cross_val_score(lr_model, X_train, y_train, cv = skf, scoring='f1_macro')\n",
    "print(lr_cross_val.mean())"
   ]
  },
  {
   "cell_type": "code",
   "execution_count": 44,
   "id": "3dcd7d12",
   "metadata": {},
   "outputs": [
    {
     "name": "stdout",
     "output_type": "stream",
     "text": [
      "Best parameters found by randomised search are: {'clf__solver': 'saga', 'clf__penalty': 'l2', 'clf__C': 0.5}\n",
      "Best accuracy from randomised search is: 0.7902046301203498\n"
     ]
    }
   ],
   "source": [
    "print ('Best parameters found by randomised search are:', lr_model.best_params_)\n",
    "print ('Best accuracy from randomised search is:', lr_model.best_score_)"
   ]
  },
  {
   "cell_type": "markdown",
   "id": "4a0708c2",
   "metadata": {},
   "source": [
    "import matplotlib.pyplot as plt\n",
    "import pandas as pd\n",
    "from sklearn.inspection import permutation_importance\n",
    "\n",
    "imps = permutation_importance(lr_model, X_test, y_test, n_repeats=15)\n",
    "importances = imps.importances_mean\n",
    "std = imps.importances_std\n",
    "indices = np.argsort(imps.importances_mean)[::-1]\n",
    "\n",
    "#Save all the features and their importances in a DataFrame\n",
    "all_features_lr = pd.DataFrame({'Feature_lr': X.columns[indices],\n",
    "                             'Importance': importances[indices]})\n",
    "\n",
    "#Format 'Importance' to 4 decimal places\n",
    "all_features_lr['Importance'] = all_features_lr['Importance'].apply(lambda x: \"{:.4f}\".format(x))\n",
    "\n",
    "#Print the top 10 features\n",
    "print(\"Top 10 Features:\")\n",
    "print(all_features_lr.head(10))\n",
    "\n",
    "#Sort the DataFrame by 'Importance' in descending order\n",
    "all_features_lr.sort_values(by='Importance', ascending=False, inplace=True)\n",
    "all_features_lr\n"
   ]
  },
  {
   "cell_type": "code",
   "execution_count": 46,
   "id": "c1b1cd11",
   "metadata": {},
   "outputs": [
    {
     "data": {
      "image/png": "[encoded data removed]",
      "text/plain": [
       "<Figure size 720x576 with 1 Axes>"
      ]
     },
     "metadata": {},
     "output_type": "display_data"
    }
   ],
   "source": [
    "top10_bar_lr = all_features_lr.head(10).sort_values(by='Importance', ascending=True)\n",
    "# Plot the top 10 features\n",
    "plt.figure(figsize=(10, 8))\n",
    "plt.barh(top10_bar_lr.iloc[:10, 0], top10_bar_lr.iloc[:10, 1].astype(float), color=\"#2C5967\", align='center')\n",
    "plt.xlabel(\"Importance\")\n",
    "plt.ylabel(\"Features\")\n",
    "plt.title('Logistic Regression Permutation Importance')\n",
    "plt.show()"
   ]
  },
  {
   "cell_type": "code",
   "execution_count": 47,
   "id": "932ca941",
   "metadata": {},
   "outputs": [
    {
     "data": {
      "text/html": [
       "<div>\n",
       "<style scoped>\n",
       "    .dataframe tbody tr th:only-of-type {\n",
       "        vertical-align: middle;\n",
       "    }\n",
       "\n",
       "    .dataframe tbody tr th {\n",
       "        vertical-align: top;\n",
       "    }\n",
       "\n",
       "    .dataframe thead th {\n",
       "        text-align: right;\n",
       "    }\n",
       "</style>\n",
       "<table border=\"1\" class=\"dataframe\">\n",
       "  <thead>\n",
       "    <tr style=\"text-align: right;\">\n",
       "      <th></th>\n",
       "      <th>Feature_lr</th>\n",
       "      <th>Importance</th>\n",
       "    </tr>\n",
       "  </thead>\n",
       "  <tbody>\n",
       "    <tr>\n",
       "      <th>0</th>\n",
       "      <td>CFY_ATTAINMENT_REP_LEVEL_BAND</td>\n",
       "      <td>0.1098</td>\n",
       "    </tr>\n",
       "    <tr>\n",
       "      <th>1</th>\n",
       "      <td>PFY_ATTAINMENT_REP_LEVEL_BAND</td>\n",
       "      <td>0.0907</td>\n",
       "    </tr>\n",
       "    <tr>\n",
       "      <th>2</th>\n",
       "      <td>HCM_PERSON_NUMBER</td>\n",
       "      <td>0.0485</td>\n",
       "    </tr>\n",
       "    <tr>\n",
       "      <th>3</th>\n",
       "      <td>TENURE_LATEST_HIRE_DATE_BAND_LIN</td>\n",
       "      <td>0.0328</td>\n",
       "    </tr>\n",
       "    <tr>\n",
       "      <th>4</th>\n",
       "      <td>CAREER_LEVEL_TENURE_IN_YEARS_LIN</td>\n",
       "      <td>0.0264</td>\n",
       "    </tr>\n",
       "    <tr>\n",
       "      <th>5</th>\n",
       "      <td>JOB_FUNCTION_TENURE_IN_YEARS_LIN</td>\n",
       "      <td>0.0232</td>\n",
       "    </tr>\n",
       "    <tr>\n",
       "      <th>6</th>\n",
       "      <td>JOB_TENURE_BAND_LIN</td>\n",
       "      <td>0.0181</td>\n",
       "    </tr>\n",
       "    <tr>\n",
       "      <th>7</th>\n",
       "      <td>PRODUCT_SPECIALITY</td>\n",
       "      <td>0.0146</td>\n",
       "    </tr>\n",
       "    <tr>\n",
       "      <th>8</th>\n",
       "      <td>MANAGER_COUNTRY</td>\n",
       "      <td>0.0134</td>\n",
       "    </tr>\n",
       "    <tr>\n",
       "      <th>9</th>\n",
       "      <td>CFY_NUM_ORG_CHANGE</td>\n",
       "      <td>0.0130</td>\n",
       "    </tr>\n",
       "  </tbody>\n",
       "</table>\n",
       "</div>"
      ],
      "text/plain": [
       "                         Feature_lr Importance\n",
       "0     CFY_ATTAINMENT_REP_LEVEL_BAND     0.1098\n",
       "1     PFY_ATTAINMENT_REP_LEVEL_BAND     0.0907\n",
       "2                 HCM_PERSON_NUMBER     0.0485\n",
       "3  TENURE_LATEST_HIRE_DATE_BAND_LIN     0.0328\n",
       "4  CAREER_LEVEL_TENURE_IN_YEARS_LIN     0.0264\n",
       "5  JOB_FUNCTION_TENURE_IN_YEARS_LIN     0.0232\n",
       "6               JOB_TENURE_BAND_LIN     0.0181\n",
       "7                PRODUCT_SPECIALITY     0.0146\n",
       "8                   MANAGER_COUNTRY     0.0134\n",
       "9                CFY_NUM_ORG_CHANGE     0.0130"
      ]
     },
     "execution_count": 47,
     "metadata": {},
     "output_type": "execute_result"
    }
   ],
   "source": [
    "top10_lr = all_features_lr.head(10)\n",
    "top10_lr"
   ]
  },
  {
   "cell_type": "code",
   "execution_count": 48,
   "id": "bae14449",
   "metadata": {},
   "outputs": [],
   "source": [
    "#Save to csv\n",
    "top10_lr.to_csv('./1. Data/top10_lr.csv', index=False)"
   ]
  },
  {
   "cell_type": "code",
   "execution_count": 49,
   "id": "98b7dacc",
   "metadata": {},
   "outputs": [
    {
     "data": {
      "image/png": "[encoded data removed]",
      "text/plain": [
       "<Figure size 576x432 with 2 Axes>"
      ]
     },
     "metadata": {},
     "output_type": "display_data"
    }
   ],
   "source": [
    "#Plot Confusion Matrix\n",
    "\n",
    "#plot confusion matrix\n",
    "\n",
    "conf_mat_lr = confusion_matrix(y_test, y_pred_lr)\n",
    "\n",
    "fig, ax = plt.subplots(figsize=(8,6))\n",
    "sns.heatmap(conf_mat_lr, annot=True, fmt='d')\n",
    "plt.ylabel('Actual')\n",
    "plt.xlabel('Predicted')\n",
    "\n",
    "ax.xaxis.set_ticklabels(['Active', 'Terminated'])\n",
    "ax.yaxis.set_ticklabels(['Active', 'Terminated'])\n",
    "\n",
    "\n",
    "plt.show()"
   ]
  },
  {
   "cell_type": "code",
   "execution_count": 50,
   "id": "ea527e80",
   "metadata": {},
   "outputs": [
    {
     "data": {
      "text/html": [
       "<div>\n",
       "<style scoped>\n",
       "    .dataframe tbody tr th:only-of-type {\n",
       "        vertical-align: middle;\n",
       "    }\n",
       "\n",
       "    .dataframe tbody tr th {\n",
       "        vertical-align: top;\n",
       "    }\n",
       "\n",
       "    .dataframe thead th {\n",
       "        text-align: right;\n",
       "    }\n",
       "</style>\n",
       "<table border=\"1\" class=\"dataframe\">\n",
       "  <thead>\n",
       "    <tr style=\"text-align: right;\">\n",
       "      <th></th>\n",
       "      <th>Predicted as Active</th>\n",
       "      <th>Predicted as Terminated</th>\n",
       "    </tr>\n",
       "  </thead>\n",
       "  <tbody>\n",
       "    <tr>\n",
       "      <th>Active</th>\n",
       "      <td>283</td>\n",
       "      <td>21</td>\n",
       "    </tr>\n",
       "    <tr>\n",
       "      <th>Terminated</th>\n",
       "      <td>57</td>\n",
       "      <td>87</td>\n",
       "    </tr>\n",
       "  </tbody>\n",
       "</table>\n",
       "</div>"
      ],
      "text/plain": [
       "            Predicted as Active  Predicted as Terminated\n",
       "Active                      283                       21\n",
       "Terminated                   57                       87"
      ]
     },
     "execution_count": 50,
     "metadata": {},
     "output_type": "execute_result"
    }
   ],
   "source": [
    "#Plot confusion matrix in dataframe\n",
    "conf_mat_lr_df = pd.DataFrame(conf_mat_lr, columns = ['Predicted as Active', 'Predicted as Terminated'], index = ['Active', 'Terminated'] )\n",
    "conf_mat_lr_df"
   ]
  },
  {
   "cell_type": "code",
   "execution_count": 51,
   "id": "6f27d39f",
   "metadata": {},
   "outputs": [
    {
     "data": {
      "text/html": [
       "<div>\n",
       "<style scoped>\n",
       "    .dataframe tbody tr th:only-of-type {\n",
       "        vertical-align: middle;\n",
       "    }\n",
       "\n",
       "    .dataframe tbody tr th {\n",
       "        vertical-align: top;\n",
       "    }\n",
       "\n",
       "    .dataframe thead th {\n",
       "        text-align: right;\n",
       "    }\n",
       "</style>\n",
       "<table border=\"1\" class=\"dataframe\">\n",
       "  <thead>\n",
       "    <tr style=\"text-align: right;\">\n",
       "      <th></th>\n",
       "      <th>true_values</th>\n",
       "      <th>pred_probs</th>\n",
       "    </tr>\n",
       "  </thead>\n",
       "  <tbody>\n",
       "    <tr>\n",
       "      <th>2128</th>\n",
       "      <td>0</td>\n",
       "      <td>0.162204</td>\n",
       "    </tr>\n",
       "    <tr>\n",
       "      <th>672</th>\n",
       "      <td>1</td>\n",
       "      <td>0.799319</td>\n",
       "    </tr>\n",
       "    <tr>\n",
       "      <th>233</th>\n",
       "      <td>1</td>\n",
       "      <td>0.942579</td>\n",
       "    </tr>\n",
       "    <tr>\n",
       "      <th>1475</th>\n",
       "      <td>0</td>\n",
       "      <td>0.045107</td>\n",
       "    </tr>\n",
       "    <tr>\n",
       "      <th>1651</th>\n",
       "      <td>0</td>\n",
       "      <td>0.140879</td>\n",
       "    </tr>\n",
       "  </tbody>\n",
       "</table>\n",
       "</div>"
      ],
      "text/plain": [
       "      true_values  pred_probs\n",
       "2128            0    0.162204\n",
       "672             1    0.799319\n",
       "233             1    0.942579\n",
       "1475            0    0.045107\n",
       "1651            0    0.140879"
      ]
     },
     "execution_count": 51,
     "metadata": {},
     "output_type": "execute_result"
    }
   ],
   "source": [
    "#Sensitivity and Specificity\n",
    "pred_proba_lr_df = pd.DataFrame({'true_values': y_test, 'pred_probs': lr_model.predict_proba(X_test)[:,1]})\n",
    "pred_proba_lr_df.head()"
   ]
  },
  {
   "cell_type": "markdown",
   "id": "d7183e0e",
   "metadata": {},
   "source": [
    "# Choose Light GBM"
   ]
  },
  {
   "cell_type": "code",
   "execution_count": 52,
   "id": "df8fff12",
   "metadata": {},
   "outputs": [],
   "source": [
    "#define the numeric transformer\n",
    "numeric_transformer = Pipeline(steps=[('scaler', MinMaxScaler())])\n",
    "\n",
    "#define the categorical transformer\n",
    "categorical_transformer = Pipeline(steps=[('onehot', OneHotEncoder(handle_unknown = 'ignore'))])\n",
    "\n",
    "#define the preprocessor step using columntransformer for both numeric and categorical features\n",
    "preprocessor = ColumnTransformer(\n",
    "    transformers=[\n",
    "        ('num', numeric_transformer, numeric_features),\n",
    "        ('cat', categorical_transformer, categorical_features)])"
   ]
  },
  {
   "cell_type": "markdown",
   "id": "65316b61",
   "metadata": {},
   "source": [
    "#define classifier\n",
    "clf = LGBMClassifier(objective = 'binary', metric = 'binary_logloss')\n",
    "\n",
    "#define the pipeline - chain the preprocessor step and the classifier\n",
    "pipe = Pipeline([('preprocessor',preprocessor), ('clf',clf)])\n",
    "pipe.steps"
   ]
  },
  {
   "cell_type": "code",
   "execution_count": 54,
   "id": "cefc9a46",
   "metadata": {},
   "outputs": [],
   "source": [
    "#randomised search cv with hyper parameters\n",
    "\n",
    "#input the parameters for search space\n",
    "\n",
    "skf = StratifiedKFold(n_splits=5, random_state=15, shuffle=True)\n",
    "\n",
    "param_grid = {\n",
    "    'clf__boosting_type':['gbdt','dart'],\n",
    "    'clf__n_estimators':[500, 1000],\n",
    "    'clf__learning_rate':[0.05, 0.1, 0.5],\n",
    "    'clf__max_depth': [10, 20, 30],\n",
    "    'clf__num_leaves': [1000, 2000],\n",
    "\n",
    "}\n",
    "\n",
    "#create the light gbm classifier object\n",
    "#f1 macro is used for imbalanced datasets\n",
    "rscv_lgbm = RandomizedSearchCV(estimator = pipe, param_distributions=param_grid, scoring='f1_macro',random_state=22, cv=skf, verbose=1)\n",
    "\n"
   ]
  },
  {
   "cell_type": "code",
   "execution_count": 55,
   "id": "5df45253",
   "metadata": {},
   "outputs": [
    {
     "name": "stdout",
     "output_type": "stream",
     "text": [
      "Fitting 5 folds for each of 10 candidates, totalling 50 fits\n",
      "Wall time: 2min 56s\n"
     ]
    }
   ],
   "source": [
    "%%time\n",
    "\n",
    "#fit the lgbm model with X-train and y_train data\n",
    "\n",
    "lgbm_model = rscv_lgbm.fit(X_train, y_train)"
   ]
  },
  {
   "cell_type": "code",
   "execution_count": 56,
   "id": "8edbc6f2",
   "metadata": {},
   "outputs": [],
   "source": [
    "#predict the testing data first\n",
    "y_pred_lgbm = lgbm_model.predict(X_test)"
   ]
  },
  {
   "cell_type": "code",
   "execution_count": 57,
   "id": "057a373d",
   "metadata": {},
   "outputs": [
    {
     "name": "stdout",
     "output_type": "stream",
     "text": [
      "Fitting 5 folds for each of 10 candidates, totalling 50 fits\n",
      "Fitting 5 folds for each of 10 candidates, totalling 50 fits\n",
      "Fitting 5 folds for each of 10 candidates, totalling 50 fits\n",
      "Fitting 5 folds for each of 10 candidates, totalling 50 fits\n",
      "Fitting 5 folds for each of 10 candidates, totalling 50 fits\n",
      "0.8333953058509355\n"
     ]
    }
   ],
   "source": [
    "lgbm_cross_val = cross_val_score(lgbm_model, X_train, y_train, cv = skf, scoring='f1_macro')\n",
    "print(lgbm_cross_val.mean())"
   ]
  },
  {
   "cell_type": "code",
   "execution_count": 58,
   "id": "0e17fc7d",
   "metadata": {},
   "outputs": [
    {
     "name": "stdout",
     "output_type": "stream",
     "text": [
      "Best parameters found by randomised search are: {'clf__num_leaves': 2000, 'clf__n_estimators': 1000, 'clf__max_depth': 10, 'clf__learning_rate': 0.1, 'clf__boosting_type': 'gbdt'}\n",
      "Best accuracy from randomised search is: 0.8302472185879903\n"
     ]
    }
   ],
   "source": [
    "print ('Best parameters found by randomised search are:', lgbm_model.best_params_)\n",
    "\n",
    "print ('Best accuracy from randomised search is:', lgbm_model.best_score_)"
   ]
  },
  {
   "cell_type": "markdown",
   "id": "c444fdea",
   "metadata": {},
   "source": [
    "import matplotlib.pyplot as plt\n",
    "import pandas as pd\n",
    "from sklearn.inspection import permutation_importance\n",
    "\n",
    "imps = permutation_importance(lgbm_model, X_test, y_test, n_repeats=15)\n",
    "importances = imps.importances_mean\n",
    "std = imps.importances_std\n",
    "indices = np.argsort(imps.importances_mean)[::-1]\n",
    "\n",
    "#Save all the features and their importances in a DataFrame\n",
    "all_features_lgbm = pd.DataFrame({'Feature_lgbm': X.columns[indices],\n",
    "                             'Importance': importances[indices]})\n",
    "#Format 'Importance' to 4 decimal places\n",
    "all_features_lgbm['Importance'] = all_features_lgbm['Importance'].apply(lambda x: \"{:.4f}\".format(x))\n",
    "\n",
    "#Print the top 10 features\n",
    "print(\"Top 10 Features:\")\n",
    "print(all_features_lgbm.head(10))\n",
    "\n",
    "#Sort the DataFrame by 'Importance' in descending order\n",
    "all_features_lgbm.sort_values(by='Importance', ascending=False, inplace=True)\n",
    "all_features_lgbm\n"
   ]
  },
  {
   "cell_type": "code",
   "execution_count": 60,
   "id": "3c063b6b",
   "metadata": {},
   "outputs": [
    {
     "data": {
      "image/png": "[encoded data removed]",
      "text/plain": [
       "<Figure size 720x576 with 1 Axes>"
      ]
     },
     "metadata": {},
     "output_type": "display_data"
    }
   ],
   "source": [
    "top10_bar_lgbm = all_features_lgbm.head(10).sort_values(by='Importance', ascending=True)\n",
    "# Plot the top 10 features\n",
    "plt.figure(figsize=(10, 8))\n",
    "plt.barh(top10_bar_lgbm.iloc[:10, 0], top10_bar_lgbm.iloc[:10, 1].astype(float), color=\"#2C5967\", align='center')\n",
    "plt.xlabel(\"Importance\")\n",
    "plt.ylabel(\"Features\")\n",
    "plt.title('Light GBM Permutation Importance')\n",
    "plt.show()"
   ]
  },
  {
   "cell_type": "markdown",
   "id": "51782e16",
   "metadata": {},
   "source": [
    "top10_lgbm = all_features_lgbm.head(10)\n",
    "top10_lgbm"
   ]
  },
  {
   "cell_type": "code",
   "execution_count": 62,
   "id": "00635761",
   "metadata": {},
   "outputs": [],
   "source": [
    "#Save to csv\n",
    "top10_lgbm.to_csv('./1. Data/top10_lgbm.csv', index=False)"
   ]
  },
  {
   "cell_type": "code",
   "execution_count": 63,
   "id": "b68134d5",
   "metadata": {},
   "outputs": [
    {
     "data": {
      "image/png": "[encoded data removed]",
      "text/plain": [
       "<Figure size 576x432 with 2 Axes>"
      ]
     },
     "metadata": {},
     "output_type": "display_data"
    }
   ],
   "source": [
    "#Plot Confusion Matrix\n",
    "\n",
    "#plot confusion matrix\n",
    "\n",
    "conf_mat_lgbm = confusion_matrix(y_test, y_pred_lgbm)\n",
    "\n",
    "fig, ax = plt.subplots(figsize=(8,6))\n",
    "sns.heatmap(conf_mat_lgbm, annot=True, fmt='d')\n",
    "plt.ylabel('Actual')\n",
    "plt.xlabel('Predicted')\n",
    "\n",
    "ax.xaxis.set_ticklabels(['Active', 'Terminated'])\n",
    "ax.yaxis.set_ticklabels(['Active', 'Terminated'])\n",
    "\n",
    "\n",
    "plt.show()"
   ]
  },
  {
   "cell_type": "code",
   "execution_count": 64,
   "id": "8febdbf1",
   "metadata": {},
   "outputs": [
    {
     "data": {
      "text/html": [
       "<div>\n",
       "<style scoped>\n",
       "    .dataframe tbody tr th:only-of-type {\n",
       "        vertical-align: middle;\n",
       "    }\n",
       "\n",
       "    .dataframe tbody tr th {\n",
       "        vertical-align: top;\n",
       "    }\n",
       "\n",
       "    .dataframe thead th {\n",
       "        text-align: right;\n",
       "    }\n",
       "</style>\n",
       "<table border=\"1\" class=\"dataframe\">\n",
       "  <thead>\n",
       "    <tr style=\"text-align: right;\">\n",
       "      <th></th>\n",
       "      <th>Predicted as Active</th>\n",
       "      <th>Predicted as Terminated</th>\n",
       "    </tr>\n",
       "  </thead>\n",
       "  <tbody>\n",
       "    <tr>\n",
       "      <th>Active</th>\n",
       "      <td>288</td>\n",
       "      <td>16</td>\n",
       "    </tr>\n",
       "    <tr>\n",
       "      <th>Terminated</th>\n",
       "      <td>49</td>\n",
       "      <td>95</td>\n",
       "    </tr>\n",
       "  </tbody>\n",
       "</table>\n",
       "</div>"
      ],
      "text/plain": [
       "            Predicted as Active  Predicted as Terminated\n",
       "Active                      288                       16\n",
       "Terminated                   49                       95"
      ]
     },
     "execution_count": 64,
     "metadata": {},
     "output_type": "execute_result"
    }
   ],
   "source": [
    "#Plot confusion matrix in dataframe\n",
    "conf_mat_lgbm_df = pd.DataFrame(conf_mat_lgbm, columns = ['Predicted as Active', 'Predicted as Terminated'], index = ['Active', 'Terminated'] )\n",
    "conf_mat_lgbm_df"
   ]
  },
  {
   "cell_type": "code",
   "execution_count": 65,
   "id": "96ee7b79",
   "metadata": {},
   "outputs": [
    {
     "data": {
      "text/html": [
       "<div>\n",
       "<style scoped>\n",
       "    .dataframe tbody tr th:only-of-type {\n",
       "        vertical-align: middle;\n",
       "    }\n",
       "\n",
       "    .dataframe tbody tr th {\n",
       "        vertical-align: top;\n",
       "    }\n",
       "\n",
       "    .dataframe thead th {\n",
       "        text-align: right;\n",
       "    }\n",
       "</style>\n",
       "<table border=\"1\" class=\"dataframe\">\n",
       "  <thead>\n",
       "    <tr style=\"text-align: right;\">\n",
       "      <th></th>\n",
       "      <th>true_values</th>\n",
       "      <th>pred_probs</th>\n",
       "    </tr>\n",
       "  </thead>\n",
       "  <tbody>\n",
       "    <tr>\n",
       "      <th>2128</th>\n",
       "      <td>0</td>\n",
       "      <td>4.553752e-05</td>\n",
       "    </tr>\n",
       "    <tr>\n",
       "      <th>672</th>\n",
       "      <td>1</td>\n",
       "      <td>7.622621e-01</td>\n",
       "    </tr>\n",
       "    <tr>\n",
       "      <th>233</th>\n",
       "      <td>1</td>\n",
       "      <td>9.999989e-01</td>\n",
       "    </tr>\n",
       "    <tr>\n",
       "      <th>1475</th>\n",
       "      <td>0</td>\n",
       "      <td>6.019726e-11</td>\n",
       "    </tr>\n",
       "    <tr>\n",
       "      <th>1651</th>\n",
       "      <td>0</td>\n",
       "      <td>4.406658e-05</td>\n",
       "    </tr>\n",
       "  </tbody>\n",
       "</table>\n",
       "</div>"
      ],
      "text/plain": [
       "      true_values    pred_probs\n",
       "2128            0  4.553752e-05\n",
       "672             1  7.622621e-01\n",
       "233             1  9.999989e-01\n",
       "1475            0  6.019726e-11\n",
       "1651            0  4.406658e-05"
      ]
     },
     "execution_count": 65,
     "metadata": {},
     "output_type": "execute_result"
    }
   ],
   "source": [
    "#Sensitivity and Specificity\n",
    "pred_proba_lgbm_df = pd.DataFrame({'true_values': y_test, 'pred_probs': lgbm_model.predict_proba(X_test)[:,1]})\n",
    "pred_proba_lgbm_df.head()"
   ]
  },
  {
   "cell_type": "code",
   "execution_count": 66,
   "id": "53ab17fd",
   "metadata": {},
   "outputs": [],
   "source": [
    "#predict the probability of the positive class (i.e., class 1) for the test data\n",
    "y_probs_lgbm = lgbm_model.predict_proba(X_test)[:, 1]\n",
    "X_test_proba = X_test.copy()\n",
    "X_test_proba['probs'] = y_probs_lgbm"
   ]
  },
  {
   "cell_type": "code",
   "execution_count": 67,
   "id": "a8df9d30",
   "metadata": {},
   "outputs": [
    {
     "data": {
      "text/plain": [
       "((448, 97), (448, 98))"
      ]
     },
     "execution_count": 67,
     "metadata": {},
     "output_type": "execute_result"
    }
   ],
   "source": [
    "X_test.shape, X_test_proba.shape"
   ]
  },
  {
   "cell_type": "code",
   "execution_count": 68,
   "id": "8e4987ff",
   "metadata": {},
   "outputs": [
    {
     "data": {
      "image/png": "[encoded data removed]",
      "text/plain": [
       "<Figure size 1080x864 with 1 Axes>"
      ]
     },
     "metadata": {},
     "output_type": "display_data"
    }
   ],
   "source": [
    "import matplotlib.pyplot as plt\n",
    "\n",
    "fig, ax = plt.subplots(figsize=(15, 12))\n",
    "\n",
    "ax.hist(X_test_proba['probs'], bins=50)\n",
    "ax.set_xlabel('Probability of Positive Class', fontsize=18)\n",
    "ax.set_ylabel('Frequency', fontsize=18)\n",
    "ax.set_title('Distribution of Predicted Probabilities', fontsize=25)\n",
    "ax.tick_params(axis='both', which='major', labelsize=18)\n",
    "\n",
    "plt.show()"
   ]
  },
  {
   "cell_type": "code",
   "execution_count": 69,
   "id": "5c41dd3d",
   "metadata": {},
   "outputs": [],
   "source": [
    "probs_binning = pd.cut(X_test_proba['probs'], bins=[0, 0.8, 1], labels=['others', 'highly likely'])\n",
    "probs_binning_num = pd.cut(X_test_proba['probs'], bins=[0, 0.8, 1], labels=['0', '1'])\n",
    "\n",
    "X_test_proba['probs binning'] = probs_binning\n",
    "X_test_proba['probs binning num'] = probs_binning_num"
   ]
  },
  {
   "cell_type": "code",
   "execution_count": 70,
   "id": "6d26b5b9",
   "metadata": {},
   "outputs": [
    {
     "data": {
      "text/plain": [
       "others           0.774554\n",
       "highly likely    0.225446\n",
       "Name: probs binning, dtype: float64"
      ]
     },
     "execution_count": 70,
     "metadata": {},
     "output_type": "execute_result"
    }
   ],
   "source": [
    "X_test_proba['probs binning'].value_counts(normalize=True)"
   ]
  },
  {
   "cell_type": "code",
   "execution_count": 71,
   "id": "50576043",
   "metadata": {},
   "outputs": [
    {
     "data": {
      "text/plain": [
       "others           347\n",
       "highly likely    101\n",
       "Name: probs binning, dtype: int64"
      ]
     },
     "execution_count": 71,
     "metadata": {},
     "output_type": "execute_result"
    }
   ],
   "source": [
    "X_test_proba['probs binning'].value_counts()"
   ]
  },
  {
   "cell_type": "code",
   "execution_count": 72,
   "id": "33d92283",
   "metadata": {},
   "outputs": [],
   "source": [
    "#Save to csv\n",
    "X_test_proba.to_csv('./1. Data/X_test_proba.csv', index=False)"
   ]
  },
  {
   "cell_type": "code",
   "execution_count": 73,
   "id": "8c257ace",
   "metadata": {},
   "outputs": [
    {
     "data": {
      "text/plain": [
       "(2240, 97)"
      ]
     },
     "execution_count": 73,
     "metadata": {},
     "output_type": "execute_result"
    }
   ],
   "source": [
    "X_raw = X.copy()\n",
    "X_raw.shape"
   ]
  },
  {
   "cell_type": "code",
   "execution_count": 74,
   "id": "38a5499e",
   "metadata": {},
   "outputs": [],
   "source": [
    "#predict the probability of the positive class (i.e., class 1) for the test data\n",
    "y_probs_lgbm_raw = lgbm_model.predict_proba(X_raw)[:, 1]\n",
    "X_raw_proba = X_raw.copy()\n",
    "X_raw_proba['probs'] = y_probs_lgbm_raw"
   ]
  },
  {
   "cell_type": "code",
   "execution_count": 75,
   "id": "8529e5c2",
   "metadata": {},
   "outputs": [
    {
     "data": {
      "image/png": "[encoded data removed]",
      "text/plain": [
       "<Figure size 1080x864 with 1 Axes>"
      ]
     },
     "metadata": {},
     "output_type": "display_data"
    }
   ],
   "source": [
    "import matplotlib.pyplot as plt\n",
    "\n",
    "fig, ax = plt.subplots(figsize=(15, 12))\n",
    "\n",
    "ax.hist(X_test_proba['probs'], bins=50)\n",
    "ax.set_xlabel('Probability of Positive Class', fontsize=18)\n",
    "ax.set_ylabel('Frequency', fontsize=18)\n",
    "ax.set_title('Distribution of Predicted Probabilities', fontsize=25)\n",
    "ax.tick_params(axis='both', which='major', labelsize=18)\n",
    "\n",
    "plt.show()"
   ]
  },
  {
   "cell_type": "code",
   "execution_count": 76,
   "id": "f65bec48",
   "metadata": {},
   "outputs": [],
   "source": [
    "probs_binning = pd.cut(X_raw_proba['probs'], bins=[0, 0.8, 1], labels=['others', 'highly likely'])\n",
    "probs_binning_num = pd.cut(X_raw_proba['probs'], bins=[0, 0.8, 1], labels=['0', '1'])\n",
    "\n",
    "X_raw_proba['probs binning'] = probs_binning\n",
    "X_raw_proba['probs binning num'] = probs_binning_num"
   ]
  },
  {
   "cell_type": "code",
   "execution_count": 77,
   "id": "ad274c4f",
   "metadata": {},
   "outputs": [
    {
     "data": {
      "text/plain": [
       "others           0.690179\n",
       "highly likely    0.309821\n",
       "Name: probs binning, dtype: float64"
      ]
     },
     "execution_count": 77,
     "metadata": {},
     "output_type": "execute_result"
    }
   ],
   "source": [
    "X_raw_proba['probs binning'].value_counts(normalize=True)"
   ]
  },
  {
   "cell_type": "code",
   "execution_count": 78,
   "id": "f5057c18",
   "metadata": {},
   "outputs": [
    {
     "data": {
      "text/plain": [
       "others           1546\n",
       "highly likely     694\n",
       "Name: probs binning, dtype: int64"
      ]
     },
     "execution_count": 78,
     "metadata": {},
     "output_type": "execute_result"
    }
   ],
   "source": [
    "X_raw_proba['probs binning'].value_counts()"
   ]
  },
  {
   "cell_type": "code",
   "execution_count": 79,
   "id": "06fdb951",
   "metadata": {},
   "outputs": [],
   "source": [
    "#Save to csv\n",
    "X_raw_proba.to_csv('./1. Data/X_raw_proba.csv', index=False)"
   ]
  },
  {
   "cell_type": "code",
   "execution_count": null,
   "id": "8e5e7bb7",
   "metadata": {},
   "outputs": [],
   "source": [
    "#Merge X_raw_proba with df2 to have terminated"
   ]
  },
  {
   "cell_type": "code",
   "execution_count": 97,
   "id": "a21a98b6",
   "metadata": {},
   "outputs": [],
   "source": [
    "df2_subset = df2[['HCM_PERSON_NUMBER', 'TERMINATED', 'TERMINATED_NUM']]"
   ]
  },
  {
   "cell_type": "code",
   "execution_count": 98,
   "id": "a4e18d07",
   "metadata": {},
   "outputs": [],
   "source": [
    "viz = pd.merge(X_raw_proba, df2_subset, on='HCM_PERSON_NUMBER')"
   ]
  },
  {
   "cell_type": "code",
   "execution_count": 99,
   "id": "8514dfd1",
   "metadata": {},
   "outputs": [
    {
     "data": {
      "text/plain": [
       "((2240, 100), (2240, 3), (2240, 102))"
      ]
     },
     "execution_count": 99,
     "metadata": {},
     "output_type": "execute_result"
    }
   ],
   "source": [
    "X_raw_proba.shape, df2_subset.shape, viz.shape"
   ]
  },
  {
   "cell_type": "code",
   "execution_count": 100,
   "id": "4a09e618",
   "metadata": {},
   "outputs": [],
   "source": [
    "#Save to csv\n",
    "viz.to_csv('./1. Data/viz.csv', index=False)"
   ]
  },
  {
   "cell_type": "code",
   "execution_count": 80,
   "id": "3edac114",
   "metadata": {},
   "outputs": [],
   "source": [
    "#EDA on features (on original data set)\n",
    "#EDA on highly likely (on X_test)"
   ]
  },
  {
   "cell_type": "markdown",
   "id": "3e4f56f0",
   "metadata": {},
   "source": [
    "# Choose SVC"
   ]
  },
  {
   "cell_type": "markdown",
   "id": "a0fb8169",
   "metadata": {},
   "source": [
    "#define classifier\n",
    "clf = SVC(probability=True)\n",
    "\n",
    "#define the pipeline - chain the preprocessor step and the classifier\n",
    "pipe = Pipeline([('preprocessor',preprocessor), ('clf',clf)])\n",
    "pipe.steps"
   ]
  },
  {
   "cell_type": "code",
   "execution_count": 82,
   "id": "e1294505",
   "metadata": {},
   "outputs": [],
   "source": [
    "#randomised search cv with hyper parameters\n",
    "skf = StratifiedKFold(n_splits=5, random_state=45, shuffle=True)\n",
    "#input the parameters for search space\n",
    "\n",
    "param_grid = {'clf__C': [0.1, 1, 10, 100, 1000], \n",
    "              'clf__gamma': [0.001, 0.01, 0.1, 1],\n",
    "              'clf__kernel': ['linear','poly','rbf','sigmoid'],\n",
    "              'clf__degree':[1,3]\n",
    "\n",
    "}\n",
    "\n",
    "#create the multinomial naive bayes classifier object\n",
    "rscv_svc = RandomizedSearchCV(estimator = pipe, param_distributions=param_grid, scoring='f1_macro',cv=skf, random_state=22, verbose=1)\n"
   ]
  },
  {
   "cell_type": "code",
   "execution_count": 83,
   "id": "67026005",
   "metadata": {},
   "outputs": [
    {
     "name": "stdout",
     "output_type": "stream",
     "text": [
      "Fitting 5 folds for each of 10 candidates, totalling 50 fits\n",
      "Wall time: 3min 7s\n"
     ]
    }
   ],
   "source": [
    "%%time\n",
    "\n",
    "#fit the svc model with X-train and y_train data\n",
    "svc_model = rscv_svc.fit(X_train, y_train)"
   ]
  },
  {
   "cell_type": "code",
   "execution_count": 84,
   "id": "d62b3d13",
   "metadata": {},
   "outputs": [
    {
     "name": "stdout",
     "output_type": "stream",
     "text": [
      "Fitting 5 folds for each of 10 candidates, totalling 50 fits\n",
      "Fitting 5 folds for each of 10 candidates, totalling 50 fits\n",
      "Fitting 5 folds for each of 10 candidates, totalling 50 fits\n",
      "Fitting 5 folds for each of 10 candidates, totalling 50 fits\n",
      "Fitting 5 folds for each of 10 candidates, totalling 50 fits\n",
      "0.7762414976237102\n"
     ]
    }
   ],
   "source": [
    "svc_cross_val = cross_val_score(svc_model, X_train, y_train, cv = skf, scoring='f1_macro')\n",
    "print(svc_cross_val.mean())"
   ]
  },
  {
   "cell_type": "code",
   "execution_count": 85,
   "id": "b0225c78",
   "metadata": {},
   "outputs": [
    {
     "name": "stdout",
     "output_type": "stream",
     "text": [
      "Best parameters found by randomised search are: {'clf__kernel': 'linear', 'clf__gamma': 1, 'clf__degree': 3, 'clf__C': 10}\n",
      "Best accuracy from randomised search is: 0.7822204315573541\n"
     ]
    }
   ],
   "source": [
    "print ('Best parameters found by randomised search are:', svc_model.best_params_)\n",
    "\n",
    "print ('Best accuracy from randomised search is:', svc_model.best_score_)"
   ]
  },
  {
   "cell_type": "code",
   "execution_count": 86,
   "id": "de5d075e",
   "metadata": {},
   "outputs": [
    {
     "data": {
      "text/plain": [
       "(448, 97)"
      ]
     },
     "execution_count": 86,
     "metadata": {},
     "output_type": "execute_result"
    }
   ],
   "source": [
    "X_test.shape"
   ]
  },
  {
   "cell_type": "code",
   "execution_count": 87,
   "id": "8f665146",
   "metadata": {},
   "outputs": [
    {
     "name": "stdout",
     "output_type": "stream",
     "text": [
      "              precision    recall  f1-score   support\n",
      "\n",
      "           0       0.84      0.90      0.87       304\n",
      "           1       0.75      0.63      0.68       144\n",
      "\n",
      "    accuracy                           0.81       448\n",
      "   macro avg       0.79      0.76      0.78       448\n",
      "weighted avg       0.81      0.81      0.81       448\n",
      "\n"
     ]
    }
   ],
   "source": [
    "#predict the testing data first\n",
    "y_pred_svc = svc_model.predict(X_test)\n",
    "\n",
    "print(metrics.classification_report(y_test,y_pred_svc))"
   ]
  },
  {
   "cell_type": "markdown",
   "id": "58ae2873",
   "metadata": {},
   "source": [
    "import matplotlib.pyplot as plt\n",
    "import pandas as pd\n",
    "from sklearn.inspection import permutation_importance\n",
    "\n",
    "imps = permutation_importance(svc_model, X_test, y_test, n_repeats=15)\n",
    "importances = imps.importances_mean\n",
    "std = imps.importances_std\n",
    "indices = np.argsort(imps.importances_mean)[::-1]\n",
    "\n",
    "#Save all the features and their importances in a DataFrame\n",
    "all_features_svc = pd.DataFrame({'Feature_svc': X.columns[indices],\n",
    "                             'Importance': importances[indices]})\n",
    "\n",
    "#Format 'Importance' to 4 decimal places\n",
    "all_features_svc['Importance'] = all_features_svc['Importance'].apply(lambda x: \"{:.4f}\".format(x))\n",
    "\n",
    "#Print the top 10 features\n",
    "print(\"Top 10 Features:\")\n",
    "print(all_features_svc.head(10))\n",
    "\n",
    "#Sort the DataFrame by 'Importance' in descending order\n",
    "all_features_svc.sort_values(by='Importance', ascending=False, inplace=True)\n",
    "all_features_svc\n"
   ]
  },
  {
   "cell_type": "code",
   "execution_count": 89,
   "id": "aebe2950",
   "metadata": {},
   "outputs": [
    {
     "data": {
      "image/png": "[encoded data removed]",
      "text/plain": [
       "<Figure size 720x576 with 1 Axes>"
      ]
     },
     "metadata": {},
     "output_type": "display_data"
    }
   ],
   "source": [
    "top10_bar_svc = all_features_svc.head(10).sort_values(by='Importance', ascending=True)\n",
    "# Plot the top 10 features\n",
    "plt.figure(figsize=(10, 8))\n",
    "plt.barh(top10_bar_svc.iloc[:10, 0], top10_bar_svc.iloc[:10, 1].astype(float), color=\"#2C5967\", align='center')\n",
    "plt.xlabel(\"Importance\")\n",
    "plt.ylabel(\"Features\")\n",
    "plt.title('SVC Permutation Importance')\n",
    "plt.show()"
   ]
  },
  {
   "cell_type": "code",
   "execution_count": 90,
   "id": "f5fb2509",
   "metadata": {},
   "outputs": [
    {
     "data": {
      "text/html": [
       "<div>\n",
       "<style scoped>\n",
       "    .dataframe tbody tr th:only-of-type {\n",
       "        vertical-align: middle;\n",
       "    }\n",
       "\n",
       "    .dataframe tbody tr th {\n",
       "        vertical-align: top;\n",
       "    }\n",
       "\n",
       "    .dataframe thead th {\n",
       "        text-align: right;\n",
       "    }\n",
       "</style>\n",
       "<table border=\"1\" class=\"dataframe\">\n",
       "  <thead>\n",
       "    <tr style=\"text-align: right;\">\n",
       "      <th></th>\n",
       "      <th>Feature_svc</th>\n",
       "      <th>Importance</th>\n",
       "    </tr>\n",
       "  </thead>\n",
       "  <tbody>\n",
       "    <tr>\n",
       "      <th>0</th>\n",
       "      <td>TENURE_LATEST_HIRE_DATE_BAND_LIN</td>\n",
       "      <td>0.1573</td>\n",
       "    </tr>\n",
       "    <tr>\n",
       "      <th>1</th>\n",
       "      <td>CAREER_LEVEL_TENURE_IN_YEARS_LIN</td>\n",
       "      <td>0.1197</td>\n",
       "    </tr>\n",
       "    <tr>\n",
       "      <th>2</th>\n",
       "      <td>HCM_PERSON_NUMBER</td>\n",
       "      <td>0.0926</td>\n",
       "    </tr>\n",
       "    <tr>\n",
       "      <th>3</th>\n",
       "      <td>PFY_ATTAINMENT_REP_LEVEL_BAND</td>\n",
       "      <td>0.0915</td>\n",
       "    </tr>\n",
       "    <tr>\n",
       "      <th>4</th>\n",
       "      <td>MANAGER_COUNTRY</td>\n",
       "      <td>0.0777</td>\n",
       "    </tr>\n",
       "    <tr>\n",
       "      <th>5</th>\n",
       "      <td>JOB_FUNCTION_TENURE_IN_YEARS_LIN</td>\n",
       "      <td>0.0751</td>\n",
       "    </tr>\n",
       "    <tr>\n",
       "      <th>6</th>\n",
       "      <td>CFY_ATTAINMENT_REP_LEVEL_BAND</td>\n",
       "      <td>0.0739</td>\n",
       "    </tr>\n",
       "    <tr>\n",
       "      <th>7</th>\n",
       "      <td>JOB_TENURE_BAND_LIN</td>\n",
       "      <td>0.0706</td>\n",
       "    </tr>\n",
       "    <tr>\n",
       "      <th>8</th>\n",
       "      <td>JOB_LEVEL_TENURE_IN_YEARS_LIN</td>\n",
       "      <td>0.0639</td>\n",
       "    </tr>\n",
       "    <tr>\n",
       "      <th>9</th>\n",
       "      <td>CFY_NUM_JOB_CHANGE</td>\n",
       "      <td>0.0505</td>\n",
       "    </tr>\n",
       "  </tbody>\n",
       "</table>\n",
       "</div>"
      ],
      "text/plain": [
       "                        Feature_svc Importance\n",
       "0  TENURE_LATEST_HIRE_DATE_BAND_LIN     0.1573\n",
       "1  CAREER_LEVEL_TENURE_IN_YEARS_LIN     0.1197\n",
       "2                 HCM_PERSON_NUMBER     0.0926\n",
       "3     PFY_ATTAINMENT_REP_LEVEL_BAND     0.0915\n",
       "4                   MANAGER_COUNTRY     0.0777\n",
       "5  JOB_FUNCTION_TENURE_IN_YEARS_LIN     0.0751\n",
       "6     CFY_ATTAINMENT_REP_LEVEL_BAND     0.0739\n",
       "7               JOB_TENURE_BAND_LIN     0.0706\n",
       "8     JOB_LEVEL_TENURE_IN_YEARS_LIN     0.0639\n",
       "9                CFY_NUM_JOB_CHANGE     0.0505"
      ]
     },
     "execution_count": 90,
     "metadata": {},
     "output_type": "execute_result"
    }
   ],
   "source": [
    "top10_svc = all_features_svc.head(10)\n",
    "top10_svc"
   ]
  },
  {
   "cell_type": "code",
   "execution_count": 91,
   "id": "3b2c8764",
   "metadata": {},
   "outputs": [],
   "source": [
    "#Save to csv\n",
    "top10_svc.to_csv('./1. Data/top10_svc.csv', index=False)"
   ]
  },
  {
   "cell_type": "code",
   "execution_count": null,
   "id": "7a9a0ff9",
   "metadata": {},
   "outputs": [],
   "source": []
  },
  {
   "cell_type": "code",
   "execution_count": null,
   "id": "076eecc8",
   "metadata": {},
   "outputs": [],
   "source": []
  }
 ],
 "metadata": {
  "kernelspec": {
   "display_name": "Python 3",
   "language": "python",
   "name": "python3"
  },
  "language_info": {
   "codemirror_mode": {
    "name": "ipython",
    "version": 3
   },
   "file_extension": ".py",
   "mimetype": "text/x-python",
   "name": "python",
   "nbconvert_exporter": "python",
   "pygments_lexer": "ipython3",
   "version": "3.8.8"
  }
 },
 "nbformat": 4,
 "nbformat_minor": 5
}
